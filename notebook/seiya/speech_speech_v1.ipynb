{
 "cells": [
  {
   "cell_type": "markdown",
   "metadata": {},
   "source": [
    "# Speech to Speech Flow"
   ]
  },
  {
   "cell_type": "markdown",
   "metadata": {},
   "source": [
    "## Speech to Text\n",
    "Objectives:\n",
    "1. Transcribe text　✅\n",
    "2. Preserve timestamp　✅"
   ]
  },
  {
   "cell_type": "code",
   "execution_count": 1,
   "metadata": {},
   "outputs": [],
   "source": [
    "from pathlib import Path\n",
    "import pytube as pt\n",
    "from openai import OpenAI\n",
    "import os\n",
    "from dotenv import load_dotenv\n",
    "\n",
    "dotenv_path = Path(\"__file__\").resolve().parents[1].parents[0] / '.local.env'\n",
    "load_dotenv(dotenv_path)\n",
    "\n",
    "OpenAI.api_key = os.getenv(\"OPENAI_API_KEY\")\n",
    "data_path = Path(\"__file__\").resolve().parents[1].parents[0] / \"local_data\""
   ]
  },
  {
   "cell_type": "code",
   "execution_count": 2,
   "metadata": {},
   "outputs": [],
   "source": [
    "YOUTUBE_VIDEO_URL = \"https://www.youtube.com/watch?v=g_ltie2ZGNY\""
   ]
  },
  {
   "cell_type": "code",
   "execution_count": 3,
   "metadata": {},
   "outputs": [
    {
     "data": {
      "text/plain": [
       "'/Users/howardtangkulung/code/personal_projects/rakugo/local_data/rakugo_v1.mp3'"
      ]
     },
     "execution_count": 3,
     "metadata": {},
     "output_type": "execute_result"
    }
   ],
   "source": [
    "yt = pt.YouTube(YOUTUBE_VIDEO_URL)\n",
    "stream = yt.streams.filter(only_audio=True)[0]\n",
    "audio_file_path = Path(data_path) / \"rakugo_v1.mp3\"\n",
    "stream.download(filename=audio_file_path)"
   ]
  },
  {
   "cell_type": "code",
   "execution_count": 4,
   "metadata": {},
   "outputs": [
    {
     "data": {
      "text/plain": [
       "<_io.BufferedRandom name='/Users/howardtangkulung/code/personal_projects/rakugo/local_data/rakugo_v1_short.mp3'>"
      ]
     },
     "execution_count": 4,
     "metadata": {},
     "output_type": "execute_result"
    }
   ],
   "source": [
    "# take first 2 minutes of the audio\n",
    "from pydub import AudioSegment\n",
    "audio = AudioSegment.from_file(audio_file_path)\n",
    "two_minutes = 45 * 1000\n",
    "\n",
    "audio = audio[:two_minutes]\n",
    "shortened_audio_file_path = Path(data_path) / \"rakugo_v1_short.mp3\"\n",
    "audio.export(shortened_audio_file_path, format=\"mp3\")"
   ]
  },
  {
   "cell_type": "code",
   "execution_count": 5,
   "metadata": {},
   "outputs": [],
   "source": [
    "client = OpenAI()\n",
    "\n",
    "shortened_audio_file_path = Path(data_path) / \"rakugo_v1_short.mp3\"\n",
    "audio_file= open(shortened_audio_file_path, \"rb\")\n",
    "\n",
    "transcript = client.audio.transcriptions.create(\n",
    "  file=audio_file,\n",
    "  model=\"whisper-1\",\n",
    "  response_format=\"verbose_json\",\n",
    "  timestamp_granularities=[\"segment\"]\n",
    ")"
   ]
  },
  {
   "cell_type": "code",
   "execution_count": 6,
   "metadata": {},
   "outputs": [
    {
     "name": "stdout",
     "output_type": "stream",
     "text": [
      "5 segments\n",
      "[{'id': 0, 'seek': 0, 'start': 0.0, 'end': 15.5600004196167, 'text': 'me', 'tokens': [50364, 1398, 51142], 'temperature': 0.20000000298023224, 'avg_logprob': -0.6036391854286194, 'compression_ratio': 1.0190476179122925, 'no_speech_prob': 0.2711162269115448}, {'id': 1, 'seek': 0, 'start': 16.040000915527344, 'end': 23.0, 'text': 'a 練習したような小刻みの白書がございます 春風って市の助と申しましてまぁ', 'tokens': [51166, 64, 220, 47027, 34025, 8533, 17010, 3203, 7322, 45500, 11362, 2972, 13558, 29801, 5142, 43808, 220, 46953, 22713, 6102, 27261, 2972, 37618, 3193, 3526, 111, 45349, 8822, 37566, 51514], 'temperature': 0.20000000298023224, 'avg_logprob': -0.6036391854286194, 'compression_ratio': 1.0190476179122925, 'no_speech_prob': 0.2711162269115448}]\n"
     ]
    }
   ],
   "source": [
    "print(len(transcript.segments), \"segments\")\n",
    "print(transcript.segments[:2])"
   ]
  },
  {
   "cell_type": "code",
   "execution_count": 7,
   "metadata": {},
   "outputs": [
    {
     "name": "stdout",
     "output_type": "stream",
     "text": [
      "{'text': '練習したような小刻みの白書がございます 春風って市の助と申しましてまぁ', 'start': 16.040000915527344, 'end': 23.0}\n",
      "{'text': '嘘つきは泥棒の始まりなんとか言って まあねほんと猫立ちの悪い嘘つくよりはちょいと招けな泥棒の方が', 'start': 23.0, 'end': 30.8799991607666}\n",
      "{'text': '買い代わりようでございますおしまいしまい こっち来いしまいはい親分なんかご用ですかよですかじゃないよね', 'start': 30.8799991607666, 'end': 38.08000183105469}\n",
      "{'text': 'おめのこと仲間がなぁなんて言ってか知ってんのかねあら見込みがねからさっさと足 荒らして敵に戻したらどうだってみんな濡れると', 'start': 38.08000183105469, 'end': 47.15999984741211}\n"
     ]
    }
   ],
   "source": [
    "# remove alphanumeric characters with regex\n",
    "import re\n",
    "\n",
    "segments = []\n",
    "for segment in transcript.segments:\n",
    "    text = re.sub(r'[a-zA-Z0-9🎶]', '', segment[\"text\"]).strip()\n",
    "    start = segment[\"start\"]\n",
    "    end = segment[\"end\"]\n",
    "\n",
    "    if text and (end-start) > 2.5:\n",
    "        segments.append({\n",
    "            \"text\": text,\n",
    "            \"start\": start,\n",
    "            \"end\": end\n",
    "        })\n",
    "\n",
    "for i in range(len(segments[:5])):\n",
    "    print(segments[i])"
   ]
  },
  {
   "cell_type": "code",
   "execution_count": 8,
   "metadata": {},
   "outputs": [],
   "source": [
    "# # find the possible pause time between words (top 10% of pause times)\n",
    "# pause_times = []\n",
    "# for i in range(len(transcript.words) - 1):\n",
    "#     pause_times.append(transcript.words[i+1][\"start\"] - transcript.words[i][\"end\"])\n",
    "\n",
    "# # find the top 10% of pause times\n",
    "# pause_times.sort()\n",
    "# top_20_pause_times = pause_times[-int(len(pause_times) * 0.05):]\n",
    "# average_pause_time = sum(top_20_pause_times) / len(top_20_pause_times)\n",
    "# print(average_pause_time)\n"
   ]
  },
  {
   "cell_type": "code",
   "execution_count": 9,
   "metadata": {},
   "outputs": [],
   "source": [
    "# # visulaize the time between words, present the cut-off point\n",
    "# import matplotlib.pyplot as plt\n",
    "# import numpy as np\n",
    "\n",
    "# timestamps = [word[\"start\"] for word in transcript.words]\n",
    "# durations = np.diff(timestamps)\n",
    "# plt.hist(durations, bins=100)\n",
    "# plt.axvline(2*average_pause_time, color=\"red\", linestyle=\"--\")\n",
    "# plt.xlabel(\"Duration (s)\")\n",
    "# plt.ylabel(\"Count\")\n",
    "# plt.show()"
   ]
  },
  {
   "cell_type": "code",
   "execution_count": 10,
   "metadata": {},
   "outputs": [],
   "source": [
    "# # group words into sentences (based on timestamps)\n",
    "# # or if end in \"ます\" or \"です\"　but not \"ですよ\"\n",
    "# sentences = []\n",
    "# sentence = \"\"\n",
    "# timestamps_start = []\n",
    "# timestamps_end = []\n",
    "# for word in transcript.words:\n",
    "#     if sentence == \"\":\n",
    "#         timestamps_start.append(word[\"start\"])\n",
    "#     sentence += word[\"word\"]\n",
    "#     if word[\"end\"] - word[\"start\"] > average_pause_time*2:\n",
    "#         sentences.append(sentence)\n",
    "#         sentence = \"\"\n",
    "#         timestamps_end.append(word[\"end\"])\n",
    "\n",
    "# print(len(sentences), \"sentences found\")\n",
    "# print(sentences[:5])\n",
    "# print(timestamps_start[:5])\n",
    "# print(timestamps_end[:5])"
   ]
  },
  {
   "cell_type": "markdown",
   "metadata": {},
   "source": [
    "## Text to text\n",
    "Objectives\n",
    "1. Easify the text ✅\n",
    "2. Try to preserve the length of text ✅"
   ]
  },
  {
   "cell_type": "code",
   "execution_count": 11,
   "metadata": {},
   "outputs": [],
   "source": [
    "sentences = [segment[\"text\"] for segment in segments]"
   ]
  },
  {
   "cell_type": "code",
   "execution_count": 12,
   "metadata": {},
   "outputs": [
    {
     "name": "stdout",
     "output_type": "stream",
     "text": [
      "1. 練習したような小刻みの白書がございます 春風って市の助と申しましてまぁ\n",
      "2. 嘘つきは泥棒の始まりなんとか言って まあねほんと猫立ちの悪い嘘つくよりはちょいと招けな泥棒の方が\n",
      "3. 買い代わりようでございますおしまいしまい こっち来いしまいはい親分なんかご用ですかよですかじゃないよね\n",
      "4. おめのこと仲間がなぁなんて言ってか知ってんのかねあら見込みがねからさっさと足 荒らして敵に戻したらどうだってみんな濡れると\n"
     ]
    }
   ],
   "source": [
    "# join segements in the format of\n",
    "# 1. segment1\n",
    "# 2. segment2\n",
    "# ...\n",
    "input_text = \"\\n\".join([f\"{i+1}. {sentence}\" for i, sentence in enumerate(sentences)])\n",
    "print(input_text)\n",
    "JLPT_LEVEL = \"N4\""
   ]
  },
  {
   "cell_type": "code",
   "execution_count": 13,
   "metadata": {},
   "outputs": [],
   "source": [
    "completion = client.chat.completions.create(\n",
    "  model=\"gpt-4\",\n",
    "  messages=[\n",
    "    {\"role\": \"system\", \"content\": \"\"\"\n",
    "    日本の落語の一節と日本語能力試験（JLPT）のレベルが与えられます。\\n\n",
    "    その節を、指定されたJLPTレベルに適した語彙を使って簡単にしてください。\\n\n",
    "    語彙のみを変更してください。文の構造や意味は変更しないでください。\\n\n",
    "     \"\"\"},\n",
    "    {\"role\": \"user\", \"content\": f\"\"\"\n",
    "    JLPTレベル: {JLPT_LEVEL}\\n\n",
    "     落語の節:\\n\n",
    "     {input_text}\n",
    "     \"\"\"}\n",
    "  ]\n",
    ")\n"
   ]
  },
  {
   "cell_type": "code",
   "execution_count": 14,
   "metadata": {},
   "outputs": [
    {
     "data": {
      "text/plain": [
       "ChatCompletionMessage(content='\\n    1. 練習したような小さいメモがあります。春風って人と自分を紹介して、まあ\\n2. 嘘つきは泥棒の始まりとか言って、まあでも本当に悪い嘘をつくよりは少し招けない泥棒の方が\\n3. 買い替えようとしています。終わり、終わり、こっち来い終わり。はい、おやびん、何かご用ですか？はいですかじゃないよね。\\n4. あなたのこと、友達がなぁと言って。知ってるのかな。あら、良い見込みがないから、早く足を運んで敵に戻したらどうだってみんな言っていると。', role='assistant', function_call=None, tool_calls=None)"
      ]
     },
     "execution_count": 14,
     "metadata": {},
     "output_type": "execute_result"
    }
   ],
   "source": [
    "completion.choices[0].message"
   ]
  },
  {
   "cell_type": "code",
   "execution_count": 15,
   "metadata": {},
   "outputs": [
    {
     "name": "stdout",
     "output_type": "stream",
     "text": [
      "\n",
      "    1. 練習したような小さいメモがあります。春風って人と自分を紹介して、まあ\n",
      "2. 嘘つきは泥棒の始まりとか言って、まあでも本当に悪い嘘をつくよりは少し招けない泥棒の方が\n",
      "3. 買い替えようとしています。終わり、終わり、こっち来い終わり。はい、おやびん、何かご用ですか？はいですかじゃないよね。\n",
      "4. あなたのこと、友達がなぁと言って。知ってるのかな。あら、良い見込みがないから、早く足を運んで敵に戻したらどうだってみんな言っていると。\n"
     ]
    }
   ],
   "source": [
    "completion_output = completion.choices[0].message.content\n",
    "print(completion_output)"
   ]
  },
  {
   "cell_type": "code",
   "execution_count": 16,
   "metadata": {},
   "outputs": [
    {
     "name": "stdout",
     "output_type": "stream",
     "text": [
      "4  sentences found from  4  sentences\n",
      "['練習したような小さいメモがあります。春風って人と自分を紹介して、まあ', '嘘つきは泥棒の始まりとか言って、まあでも本当に悪い嘘をつくよりは少し招けない泥棒の方が', '買い替えようとしています。終わり、終わり、こっち来い終わり。はい、おやびん、何かご用ですか？はいですかじゃないよね。', 'あなたのこと、友達がなぁと言って。知ってるのかな。あら、良い見込みがないから、早く足を運んで敵に戻したらどうだってみんな言っていると。']\n"
     ]
    }
   ],
   "source": [
    "# save the easified text using regex\n",
    "# \"number\". \"sentence\" -> \"sentence\"\n",
    "import re\n",
    "\n",
    "easified_sentences = re.findall(r\"\\d+\\. (.+)\", completion_output)\n",
    "print(len(easified_sentences), \" sentences found from \", len(segments), \" sentences\")\n",
    "print(easified_sentences)"
   ]
  },
  {
   "cell_type": "markdown",
   "metadata": {},
   "source": [
    "## Text to speech\n",
    "Objectives\n",
    "1. Synchronise with timestamps ✅\n",
    "2. Use same voice ✅"
   ]
  },
  {
   "cell_type": "code",
   "execution_count": 17,
   "metadata": {},
   "outputs": [],
   "source": [
    "ELEVENLABS_API_KEY = os.getenv(\"ELEVENLABS_API_KEY\")"
   ]
  },
  {
   "cell_type": "code",
   "execution_count": 18,
   "metadata": {},
   "outputs": [],
   "source": [
    "audio_file_paths = [str(shortened_audio_file_path)]"
   ]
  },
  {
   "cell_type": "code",
   "execution_count": 19,
   "metadata": {},
   "outputs": [],
   "source": [
    "from elevenlabs import clone, generate, play\n",
    "\n",
    "voice = clone(\n",
    "    api_key=ELEVENLABS_API_KEY,\n",
    "    name=\"rakugo_v1\",\n",
    "    files=audio_file_paths,\n",
    ")"
   ]
  },
  {
   "cell_type": "code",
   "execution_count": 20,
   "metadata": {},
   "outputs": [],
   "source": [
    "audios = []\n",
    "for sentence in easified_sentences:\n",
    "    audio = generate(\n",
    "        api_key=ELEVENLABS_API_KEY,\n",
    "        text=sentence,\n",
    "        voice=voice,\n",
    "        model=\"eleven_multilingual_v2\",\n",
    "        output_format=\"mp3_44100_128\"\n",
    "    )\n",
    "    audios.append(audio)"
   ]
  },
  {
   "cell_type": "code",
   "execution_count": 21,
   "metadata": {},
   "outputs": [],
   "source": [
    "play(audios[0])"
   ]
  },
  {
   "cell_type": "code",
   "execution_count": 22,
   "metadata": {},
   "outputs": [],
   "source": [
    "temp_res_file_path = Path(data_path) / \"temp_results\"\n",
    "os.makedirs(temp_res_file_path, exist_ok=True)"
   ]
  },
  {
   "cell_type": "code",
   "execution_count": 23,
   "metadata": {},
   "outputs": [
    {
     "name": "stdout",
     "output_type": "stream",
     "text": [
      "audio file saved to /Users/howardtangkulung/code/personal_projects/rakugo/local_data/temp_results/rakugo_v1_0.mp3\n",
      "audio file saved to /Users/howardtangkulung/code/personal_projects/rakugo/local_data/temp_results/rakugo_v1_1.mp3\n",
      "audio file saved to /Users/howardtangkulung/code/personal_projects/rakugo/local_data/temp_results/rakugo_v1_2.mp3\n",
      "audio file saved to /Users/howardtangkulung/code/personal_projects/rakugo/local_data/temp_results/rakugo_v1_3.mp3\n"
     ]
    }
   ],
   "source": [
    "# save generated audio to mp3\n",
    "for i, audio in enumerate(audios):\n",
    "    audio_file_path = temp_res_file_path / f\"rakugo_v1_{i}.mp3\"\n",
    "    with open(audio_file_path, \"wb\") as f:\n",
    "        f.write(audio)\n",
    "    print(f\"audio file saved to {audio_file_path}\")"
   ]
  },
  {
   "cell_type": "code",
   "execution_count": 26,
   "metadata": {},
   "outputs": [
    {
     "name": "stdout",
     "output_type": "stream",
     "text": [
      "speeded audio with speed 1\n",
      "audio file saved\n",
      "speeded audio with speed 1\n",
      "audio file saved\n",
      "speeded audio with speed 1\n",
      "audio file saved\n",
      "speeded audio with speed 1.25\n",
      "audio file saved\n"
     ]
    }
   ],
   "source": [
    "# speed up audio according to segments start and end\n",
    "\n",
    "from pydub import AudioSegment\n",
    "from pydub.effects import speedup\n",
    "\n",
    "for i, segment in enumerate(segments):\n",
    "    audio_file_path = temp_res_file_path / f\"rakugo_v1_{i}.mp3\"\n",
    "    audio = AudioSegment.from_file(audio_file_path, format=\"mp3\")\n",
    "    audio_dur = len(audio) / 1000\n",
    "    speed = audio_dur / (segment['end'] - segment['start'])\n",
    "    # round speed to nearest from 1, 1.25, 1.5\n",
    "    speed = round(speed*4) / 4\n",
    "    if speed <= 1:\n",
    "        speed = 1\n",
    "        speeded_audio = audio\n",
    "    else:\n",
    "        speeded_audio = speedup(audio, speed)\n",
    "    print(f\"speeded audio with speed {speed}\")\n",
    "    speeded_audio.export(temp_res_file_path / f\"rakugo_v1_{i}_speeded.mp3\", format=\"mp3\")\n",
    "    print(f\"audio file saved\")"
   ]
  },
  {
   "cell_type": "code",
   "execution_count": 27,
   "metadata": {},
   "outputs": [
    {
     "data": {
      "text/plain": [
       "<_io.BufferedRandom name='/Users/howardtangkulung/code/personal_projects/rakugo/local_data/temp_results/rakugo_v1_merged.mp3'>"
      ]
     },
     "execution_count": 27,
     "metadata": {},
     "output_type": "execute_result"
    }
   ],
   "source": [
    "# merge speeded audio according to segments start and end\n",
    "# use the first segment start time as the start time of the merged audio\n",
    "# fill first silence with original audio\n",
    "for i, segment in enumerate(segments):\n",
    "    audio_file_path = temp_res_file_path / f\"rakugo_v1_{i}_speeded.mp3\"\n",
    "    original_audio_file_path = data_path / \"rakugo_v1_short.mp3\"\n",
    "    original_audio = AudioSegment.from_file(original_audio_file_path, format=\"mp3\")\n",
    "    audio = AudioSegment.from_file(audio_file_path, format=\"mp3\")\n",
    "    current_time = segment['start'] * 1000\n",
    "    if i == 0:\n",
    "        fill_dur = current_time\n",
    "        fill = original_audio[:fill_dur]\n",
    "        merged_audio = fill + audio\n",
    "    else:\n",
    "        silence_dur = segment['start'] * 1000 - current_time\n",
    "        silence = AudioSegment.silent(duration=silence_dur)\n",
    "        merged_audio = merged_audio + silence + audio\n",
    "    current_time = len(merged_audio)\n",
    "\n",
    "merged_audio.export(temp_res_file_path / f\"rakugo_v1_merged.mp3\", format=\"mp3\")"
   ]
  },
  {
   "cell_type": "code",
   "execution_count": null,
   "metadata": {},
   "outputs": [],
   "source": []
  }
 ],
 "metadata": {
  "kernelspec": {
   "display_name": "rakugo",
   "language": "python",
   "name": "python3"
  },
  "language_info": {
   "codemirror_mode": {
    "name": "ipython",
    "version": 3
   },
   "file_extension": ".py",
   "mimetype": "text/x-python",
   "name": "python",
   "nbconvert_exporter": "python",
   "pygments_lexer": "ipython3",
   "version": "3.10.6"
  }
 },
 "nbformat": 4,
 "nbformat_minor": 2
}
