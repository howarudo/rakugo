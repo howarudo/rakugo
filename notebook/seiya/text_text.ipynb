{
 "cells": [
  {
   "cell_type": "code",
   "execution_count": 41,
   "metadata": {},
   "outputs": [],
   "source": [
    "from pathlib import Path\n",
    "from openai import OpenAI\n",
    "import os\n",
    "from dotenv import load_dotenv\n",
    "from datetime import datetime\n",
    "\n",
    "dotenv_path = Path(\"__file__\").resolve().parents[1].parents[0] / '.local.env'\n",
    "load_dotenv(dotenv_path)\n",
    "\n",
    "OpenAI.api_key = os.getenv(\"OPENAI_API_KEY\")\n",
    "data_path = Path(\"__file__\").resolve().parents[1].parents[0] / \"local_data\""
   ]
  },
  {
   "cell_type": "code",
   "execution_count": 9,
   "metadata": {},
   "outputs": [
    {
     "data": {
      "text/plain": [
       "FileObject(id='file-oInonTczvxFXMH1od8U4SblG', bytes=8717, created_at=1709010628, filename='data.jsonl', object='file', purpose='fine-tune', status='processed', status_details=None)"
      ]
     },
     "execution_count": 9,
     "metadata": {},
     "output_type": "execute_result"
    }
   ],
   "source": [
    "client = OpenAI()\n",
    "\n",
    "file = client.files.create(\n",
    "  file=open(os.path.join(data_path, 'data.jsonl'), \"rb\"),\n",
    "  purpose=\"fine-tune\"\n",
    ")\n",
    "file_id = file.id"
   ]
  },
  {
   "cell_type": "code",
   "execution_count": 28,
   "metadata": {},
   "outputs": [
    {
     "data": {
      "text/plain": [
       "FineTuningJob(id='ftjob-OkgVLbInsBp9X84afuSx0kZn', created_at=1709012610, error=Error(code=None, message=None, param=None, error=None), fine_tuned_model=None, finished_at=None, hyperparameters=Hyperparameters(n_epochs='auto', batch_size='auto', learning_rate_multiplier='auto'), model='gpt-3.5-turbo-0613', object='fine_tuning.job', organization_id='org-slBL62vRUI2bYXEIDBVW0AEp', result_files=[], status='validating_files', trained_tokens=None, training_file='file-oInonTczvxFXMH1od8U4SblG', validation_file=None, user_provided_suffix=None)"
      ]
     },
     "execution_count": 28,
     "metadata": {},
     "output_type": "execute_result"
    }
   ],
   "source": [
    "fine_tune = client.fine_tuning.jobs.create(\n",
    "  training_file = file_id, \n",
    "  model = \"gpt-3.5-turbo\"\n",
    ")\n",
    "ftjob_id = fine_tune.id"
   ]
  },
  {
   "cell_type": "code",
   "execution_count": 34,
   "metadata": {},
   "outputs": [
    {
     "name": "stdout",
     "output_type": "stream",
     "text": [
      "ftjob-OkgVLbInsBp9X84afuSx0kZn\n"
     ]
    },
    {
     "data": {
      "text/plain": [
       "FineTuningJob(id='ftjob-OkgVLbInsBp9X84afuSx0kZn', created_at=1709012610, error=Error(code=None, message=None, param=None, error=None), fine_tuned_model='ft:gpt-3.5-turbo-0613:personal::8wkdWCsh', finished_at=1709012985, hyperparameters=Hyperparameters(n_epochs=5, batch_size=1, learning_rate_multiplier=2), model='gpt-3.5-turbo-0613', object='fine_tuning.job', organization_id='org-slBL62vRUI2bYXEIDBVW0AEp', result_files=['file-efcXU8pQj2tuMhZM73GHWRpt'], status='succeeded', trained_tokens=13060, training_file='file-oInonTczvxFXMH1od8U4SblG', validation_file=None, user_provided_suffix=None)"
      ]
     },
     "execution_count": 34,
     "metadata": {},
     "output_type": "execute_result"
    }
   ],
   "source": [
    "# Retrieve the state of a fine-tune\n",
    "client.fine_tuning.jobs.retrieve(ftjob_id)\n",
    "\n",
    "# Cancel a job\n",
    "# client.fine_tuning.jobs.cancel(\"ftjob-H4bb8xeuH5UnbSmTfakdsrZN\")\n",
    "\n",
    "# List up to 10 events from a fine-tuning job\n",
    "# client.fine_tuning.jobs.list_events(fine_tuning_job_id=\"ftjob-H4bb8xeuH5UnbSmTfakdsrZN\", limit=10)\n",
    "\n",
    "# Delete a fine-tuned model (must be an owner of the org the model was created in)\n",
    "# client.models.delete(\"ft:gpt-3.5-turbo:acemeco:suffix:\" + ftjob_suffix)"
   ]
  },
  {
   "cell_type": "code",
   "execution_count": 43,
   "metadata": {},
   "outputs": [
    {
     "name": "stdout",
     "output_type": "stream",
     "text": [
      "Create At: 2024-02-27 14:43:30\n",
      "FineTune ID: ftjob-OkgVLbInsBp9X84afuSx0kZn\n",
      "Model ID: ft:gpt-3.5-turbo-0613:personal::8wkdWCsh\n",
      "State: succeeded\n",
      "\n",
      "Create At: 2024-02-27 14:14:23\n",
      "FineTune ID: ftjob-EdiIsxlxDodSJcFAjS3ydNXC\n",
      "Model ID: ft:gpt-3.5-turbo-0613:personal::8wkBcKAU\n",
      "State: succeeded\n",
      "\n",
      "Create At: 2024-02-27 14:10:38\n",
      "FineTune ID: ftjob-H4bb8xeuH5UnbSmTfakdsrZN\n",
      "Model ID: None\n",
      "State: cancelled\n",
      "\n"
     ]
    }
   ],
   "source": [
    "# Check all models\n",
    "ft_jobs = client.fine_tuning.jobs.list(limit=10)\n",
    "for ft_job in ft_jobs:\n",
    "  id = ft_job.id\n",
    "\n",
    "  timestamp = ft_job.created_at\n",
    "  datetime = datetime.fromtimestamp(timestamp)\n",
    "  \n",
    "  # State of fine tuning jobs\n",
    "  state = client.fine_tuning.jobs.retrieve(id).status\n",
    "  model = client.fine_tuning.jobs.retrieve(id).fine_tuned_model\n",
    "\n",
    "  print(f'Create At: {datetime}')\n",
    "  print(f'FineTune ID: {id}')\n",
    "  print(f'Model ID: {model}')\n",
    "  print(f'State: {state}\\n')\n",
    "  "
   ]
  },
  {
   "cell_type": "code",
   "execution_count": 47,
   "metadata": {},
   "outputs": [],
   "source": [
    "response = completion = client.chat.completions.create(\n",
    "  model=\"ft:gpt-3.5-turbo-0613:personal::8wkdWCsh\", # Model ID\n",
    "  messages=[\n",
    "    {\"role\": \"system\", \"content\": \"あなたは岸田文雄さんです。日本の政治家です。\"},\n",
    "    {\"role\": \"user\", \"content\": \"減税について検討できますか？\"}\n",
    "  ]\n",
    ")"
   ]
  },
  {
   "cell_type": "code",
   "execution_count": 48,
   "metadata": {},
   "outputs": [
    {
     "name": "stdout",
     "output_type": "stream",
     "text": [
      "ChatCompletionMessage(content='できます。', role='assistant', function_call=None, tool_calls=None)\n"
     ]
    }
   ],
   "source": [
    "print(response.choices[0].message)\n"
   ]
  }
 ],
 "metadata": {
  "kernelspec": {
   "display_name": "rakugo",
   "language": "python",
   "name": "python3"
  },
  "language_info": {
   "codemirror_mode": {
    "name": "ipython",
    "version": 3
   },
   "file_extension": ".py",
   "mimetype": "text/x-python",
   "name": "python",
   "nbconvert_exporter": "python",
   "pygments_lexer": "ipython3",
   "version": "3.10.6"
  }
 },
 "nbformat": 4,
 "nbformat_minor": 2
}
