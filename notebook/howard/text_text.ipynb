{
 "cells": [
  {
   "cell_type": "code",
   "execution_count": 1,
   "metadata": {},
   "outputs": [],
   "source": [
    "from pathlib import Path\n",
    "from openai import OpenAI\n",
    "import os\n",
    "from dotenv import load_dotenv\n",
    "\n",
    "dotenv_path = Path(\"__file__\").resolve().parents[1].parents[0] / '.local.env'\n",
    "load_dotenv(dotenv_path)\n",
    "\n",
    "OpenAI.api_key = os.getenv(\"OPENAI_API_KEY\")\n",
    "data_path = \"local_data\""
   ]
  },
  {
   "cell_type": "code",
   "execution_count": 2,
   "metadata": {},
   "outputs": [],
   "source": [
    "input_text = \"半端でしょ。これが嘘でも二円、三円、五円とまとまってきてみなはれ。みな言いまんがな。「二円、持ち合わせないで」と。またそんなぎょうさんな金だったら「ひょっと返してくれなんだら、困るな」と、断りたいし、断ることもできまんがな。\"\n",
    "JLPT_level = \"N4\""
   ]
  },
  {
   "cell_type": "code",
   "execution_count": 3,
   "metadata": {},
   "outputs": [
    {
     "name": "stdout",
     "output_type": "stream",
     "text": [
      "ChatCompletionMessage(content='半分でしょう。これが嘘でも二つ、三つ、五つと集まってきてみてください。みんな言っている。「二つ、持っていないで」と。またそんな大したお金ではなかったら、「もしかして返してくれないと困るな」と、断りたいし、断ることもできません。', role='assistant', function_call=None, tool_calls=None)\n"
     ]
    }
   ],
   "source": [
    "client = OpenAI()\n",
    "\n",
    "completion = client.chat.completions.create(\n",
    "  model=\"gpt-3.5-turbo\",\n",
    "  messages=[\n",
    "    {\"role\": \"system\", \"content\": \"\"\"\n",
    "     You will be given a Japanese rakugo excerpt and a JLPT level.\n",
    "     Rakugo excerpts will be covered by \\\"\\\"\\\".\n",
    "     Do not output \\\"\\\"\\\".\n",
    "     Please change the excerpt to use vocabulary and grammar appropriate for the given JLPT level.\n",
    "     \"\"\"},\n",
    "    {\"role\": \"user\", \"content\": f\"\"\"\n",
    "     The input is: \\\"\\\"\\\"{input_text}\\\"\\\"\\\".\n",
    "     The JLPT level is: {JLPT_level}.\n",
    "     \"\"\"}\n",
    "  ]\n",
    ")\n",
    "\n",
    "print(completion.choices[0].message)"
   ]
  },
  {
   "cell_type": "code",
   "execution_count": 4,
   "metadata": {},
   "outputs": [
    {
     "name": "stdout",
     "output_type": "stream",
     "text": [
      "半分でしょう。これが嘘でも二つ、三つ、五つと集まってきてみてください。みんな言っている。「二つ、持っていないで」と。またそんな大したお金ではなかったら、「もしかして返してくれないと困るな」と、断りたいし、断ることもできません。\n"
     ]
    }
   ],
   "source": [
    "print(completion.choices[0].message.content)"
   ]
  },
  {
   "cell_type": "code",
   "execution_count": null,
   "metadata": {},
   "outputs": [],
   "source": []
  }
 ],
 "metadata": {
  "kernelspec": {
   "display_name": "rakugo",
   "language": "python",
   "name": "python3"
  },
  "language_info": {
   "codemirror_mode": {
    "name": "ipython",
    "version": 3
   },
   "file_extension": ".py",
   "mimetype": "text/x-python",
   "name": "python",
   "nbconvert_exporter": "python",
   "pygments_lexer": "ipython3",
   "version": "3.10.6"
  }
 },
 "nbformat": 4,
 "nbformat_minor": 2
}
