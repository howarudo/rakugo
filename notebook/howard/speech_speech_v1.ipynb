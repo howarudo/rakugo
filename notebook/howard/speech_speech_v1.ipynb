{
 "cells": [
  {
   "cell_type": "markdown",
   "metadata": {},
   "source": [
    "# Speech to Speech Flow"
   ]
  },
  {
   "cell_type": "markdown",
   "metadata": {},
   "source": [
    "## Speech to Text\n",
    "Objectives:\n",
    "1. Transcribe text　✅\n",
    "2. Preserve timestamp　✅"
   ]
  },
  {
   "cell_type": "code",
   "execution_count": 1,
   "metadata": {},
   "outputs": [],
   "source": [
    "from pathlib import Path\n",
    "import pytube as pt\n",
    "from openai import OpenAI\n",
    "import os\n",
    "from dotenv import load_dotenv\n",
    "\n",
    "dotenv_path = Path(\"__file__\").resolve().parents[1].parents[0] / '.local.env'\n",
    "load_dotenv(dotenv_path)\n",
    "\n",
    "OpenAI.api_key = os.getenv(\"OPENAI_API_KEY\")\n",
    "data_path = Path(\"__file__\").resolve().parents[1].parents[0] / \"local_data\""
   ]
  },
  {
   "cell_type": "code",
   "execution_count": 2,
   "metadata": {},
   "outputs": [],
   "source": [
    "YOUTUBE_VIDEO_URL = \"https://www.youtube.com/watch?v=g_ltie2ZGNY\""
   ]
  },
  {
   "cell_type": "code",
   "execution_count": 3,
   "metadata": {},
   "outputs": [
    {
     "data": {
      "text/plain": [
       "'/Users/howardtangkulung/code/personal_projects/rakugo/local_data/rakugo_v1.mp3'"
      ]
     },
     "execution_count": 3,
     "metadata": {},
     "output_type": "execute_result"
    }
   ],
   "source": [
    "yt = pt.YouTube(YOUTUBE_VIDEO_URL)\n",
    "stream = yt.streams.filter(only_audio=True)[0]\n",
    "audio_file_path = os.path.join(data_path, \"rakugo_v1.mp3\")\n",
    "stream.download(filename=audio_file_path)"
   ]
  },
  {
   "cell_type": "code",
   "execution_count": 4,
   "metadata": {},
   "outputs": [
    {
     "data": {
      "text/plain": [
       "'/Users/howardtangkulung/code/personal_projects/rakugo/local_data/rakugo_v1.mp4'"
      ]
     },
     "execution_count": 4,
     "metadata": {},
     "output_type": "execute_result"
    }
   ],
   "source": [
    "# download video as well\n",
    "video_file_path = os.path.join(data_path, \"rakugo_v1.mp4\")\n",
    "yt.streams.filter(progressive=True, file_extension='mp4').order_by('resolution').asc().first().download(filename=video_file_path)"
   ]
  },
  {
   "cell_type": "code",
   "execution_count": 5,
   "metadata": {},
   "outputs": [
    {
     "data": {
      "text/plain": [
       "<_io.BufferedRandom name='/Users/howardtangkulung/code/personal_projects/rakugo/local_data/rakugo_v1_shortened.mp3'>"
      ]
     },
     "execution_count": 5,
     "metadata": {},
     "output_type": "execute_result"
    }
   ],
   "source": [
    "# take first 1 minutes of the audio\n",
    "from pydub import AudioSegment\n",
    "audio = AudioSegment.from_file(audio_file_path)\n",
    "duration = 60 * 1000\n",
    "\n",
    "audio = audio[:duration]\n",
    "shortened_audio_file_path = os.path.join(data_path, \"rakugo_v1_shortened.mp3\")\n",
    "audio.export(shortened_audio_file_path, format=\"mp3\")"
   ]
  },
  {
   "cell_type": "code",
   "execution_count": 6,
   "metadata": {},
   "outputs": [
    {
     "name": "stdout",
     "output_type": "stream",
     "text": [
      "Moviepy - Building video /Users/howardtangkulung/code/personal_projects/rakugo/local_data/rakugo_v1_shortened.mp4.\n",
      "MoviePy - Writing audio in rakugo_v1_shortenedTEMP_MPY_wvf_snd.mp3\n"
     ]
    },
    {
     "name": "stderr",
     "output_type": "stream",
     "text": [
      "                                                                      \r"
     ]
    },
    {
     "name": "stdout",
     "output_type": "stream",
     "text": [
      "MoviePy - Done.\n",
      "Moviepy - Writing video /Users/howardtangkulung/code/personal_projects/rakugo/local_data/rakugo_v1_shortened.mp4\n",
      "\n"
     ]
    },
    {
     "name": "stderr",
     "output_type": "stream",
     "text": [
      "                                                                 \r"
     ]
    },
    {
     "name": "stdout",
     "output_type": "stream",
     "text": [
      "Moviepy - Done !\n",
      "Moviepy - video ready /Users/howardtangkulung/code/personal_projects/rakugo/local_data/rakugo_v1_shortened.mp4\n"
     ]
    }
   ],
   "source": [
    "# trim video as well\n",
    "from moviepy.editor import VideoFileClip\n",
    "video = VideoFileClip(video_file_path)\n",
    "video = video.subclip(0, int(duration/1000))\n",
    "shortened_video_file_path = os.path.join(data_path, \"rakugo_v1_shortened.mp4\")\n",
    "video.write_videofile(shortened_video_file_path)"
   ]
  },
  {
   "cell_type": "code",
   "execution_count": 7,
   "metadata": {},
   "outputs": [],
   "source": [
    "client = OpenAI()\n",
    "\n",
    "shortened_audio_file_path = os.path.join(data_path, \"rakugo_v1_shortened.mp3\")\n",
    "audio_file= open(shortened_audio_file_path, \"rb\")\n",
    "\n",
    "transcript = client.audio.transcriptions.create(\n",
    "  file=audio_file,\n",
    "  model=\"whisper-1\",\n",
    "  response_format=\"verbose_json\",\n",
    "  timestamp_granularities=[\"segment\"]\n",
    ")"
   ]
  },
  {
   "cell_type": "code",
   "execution_count": 8,
   "metadata": {},
   "outputs": [
    {
     "name": "stdout",
     "output_type": "stream",
     "text": [
      "7 segments\n",
      "[{'id': 0, 'seek': 0, 'start': 0.0, 'end': 15.5600004196167, 'text': 'me', 'tokens': [50364, 1398, 51142], 'temperature': 0.20000000298023224, 'avg_logprob': -0.6330402493476868, 'compression_ratio': 1.0288461446762085, 'no_speech_prob': 0.2711162269115448}, {'id': 1, 'seek': 0, 'start': 16.040000915527344, 'end': 23.0, 'text': 'a 練習したような小刻みの白松がございます 旬風ていちの助と申しましてまぁ', 'tokens': [51166, 64, 220, 47027, 34025, 8533, 17010, 3203, 7322, 45500, 11362, 2972, 13558, 36897, 5142, 43808, 220, 4479, 105, 22713, 2996, 1764, 6574, 2972, 37618, 3193, 3526, 111, 45349, 8822, 37566, 51514], 'temperature': 0.20000000298023224, 'avg_logprob': -0.6330402493476868, 'compression_ratio': 1.0288461446762085, 'no_speech_prob': 0.2711162269115448}]\n"
     ]
    }
   ],
   "source": [
    "print(len(transcript.segments), \"segments\")\n",
    "print(transcript.segments[:2])"
   ]
  },
  {
   "cell_type": "code",
   "execution_count": 9,
   "metadata": {},
   "outputs": [
    {
     "name": "stdout",
     "output_type": "stream",
     "text": [
      "{'text': '練習したような小刻みの白松がございます 旬風ていちの助と申しましてまぁ', 'start': 16.040000915527344, 'end': 23.0}\n",
      "{'text': '嘘つきは泥棒の始まりなんと まあねほんと猫立ちの悪い嘘つくよりはちょいと間抜けな泥棒のほうが', 'start': 23.0, 'end': 30.920000076293945}\n",
      "{'text': '会があるようでございますおしまいしまい こっち来いしまいはい親分なんかご用ですかよですかじゃないよね', 'start': 30.920000076293945, 'end': 38.15999984741211}\n",
      "{'text': 'おめのこと仲間がなぁなんて言ってるか知ってるのかねあら見込みがねからさっさと足 荒らして敵に戻したらどうだってみんな濡れるとのこと言ってんだよねどうするよ', 'start': 38.15999984741211, 'end': 46.15999984741211}\n",
      "{'text': '泥棒やめるか足洗うかなんて言ってんすか 自分でもまあ土地ばかり踏んでんなってのはよくわかってるんですかね', 'start': 46.63999938964844, 'end': 53.400001525878906}\n"
     ]
    }
   ],
   "source": [
    "# remove alphanumeric characters with regex\n",
    "import re\n",
    "\n",
    "segments = []\n",
    "for segment in transcript.segments:\n",
    "    text = re.sub(r'[a-zA-Z0-9🎶]', '', segment[\"text\"]).strip()\n",
    "    start = segment[\"start\"]\n",
    "    end = segment[\"end\"]\n",
    "\n",
    "    if text and (end-start) > 2.5:\n",
    "        segments.append({\n",
    "            \"text\": text,\n",
    "            \"start\": start,\n",
    "            \"end\": end\n",
    "        })\n",
    "\n",
    "for i in range(len(segments[:5])):\n",
    "    print(segments[i])"
   ]
  },
  {
   "cell_type": "markdown",
   "metadata": {},
   "source": [
    "## Text to text\n",
    "Objectives\n",
    "1. Easify the text ✅\n",
    "2. Try to preserve the length of text ✅"
   ]
  },
  {
   "cell_type": "code",
   "execution_count": 10,
   "metadata": {},
   "outputs": [],
   "source": [
    "sentences = [segment[\"text\"] for segment in segments]"
   ]
  },
  {
   "cell_type": "code",
   "execution_count": 11,
   "metadata": {},
   "outputs": [
    {
     "name": "stdout",
     "output_type": "stream",
     "text": [
      "1. 練習したような小刻みの白松がございます 旬風ていちの助と申しましてまぁ\n",
      "2. 嘘つきは泥棒の始まりなんと まあねほんと猫立ちの悪い嘘つくよりはちょいと間抜けな泥棒のほうが\n",
      "3. 会があるようでございますおしまいしまい こっち来いしまいはい親分なんかご用ですかよですかじゃないよね\n",
      "4. おめのこと仲間がなぁなんて言ってるか知ってるのかねあら見込みがねからさっさと足 荒らして敵に戻したらどうだってみんな濡れるとのこと言ってんだよねどうするよ\n",
      "5. 泥棒やめるか足洗うかなんて言ってんすか 自分でもまあ土地ばかり踏んでんなってのはよくわかってるんですかね\n",
      "6. これから真心に立ち帰った悪事に励みますから 今までより置いちゃってくださいこの通りで言ってること\n"
     ]
    }
   ],
   "source": [
    "# join segements in the format of\n",
    "# 1. segment1\n",
    "# 2. segment2\n",
    "# ...\n",
    "input_text = \"\\n\".join([f\"{i+1}. {sentence}\" for i, sentence in enumerate(sentences)])\n",
    "print(input_text)\n",
    "JLPT_LEVEL = \"N4\""
   ]
  },
  {
   "cell_type": "code",
   "execution_count": 12,
   "metadata": {},
   "outputs": [],
   "source": [
    "completion = client.chat.completions.create(\n",
    "  model=\"gpt-4\",\n",
    "  messages=[\n",
    "    {\"role\": \"system\", \"content\": \"\"\"\n",
    "    日本の落語の一節と日本語能力試験（JLPT）のレベルが与えられます。\\n\n",
    "    その節を、指定されたJLPTレベルに適した語彙を使って簡単にしてください。\\n\n",
    "    語彙のみを変更してください。文の構造や意味は変更しないでください。\\n\n",
    "     \"\"\"},\n",
    "    {\"role\": \"user\", \"content\": f\"\"\"\n",
    "    JLPTレベル: {JLPT_LEVEL}\\n\n",
    "     落語の節:\\n\n",
    "     {input_text}\n",
    "     \"\"\"}\n",
    "  ]\n",
    ")\n"
   ]
  },
  {
   "cell_type": "code",
   "execution_count": 13,
   "metadata": {},
   "outputs": [
    {
     "data": {
      "text/plain": [
       "ChatCompletionMessage(content='\\nJLPTレベル: N4\\n\\n落語の節:\\n\\n1. 練習したような小さい白松がいます 名前は旬風ていちの助と言います\\n2. 嘘つきは泥棒の始まりとは そうですね本当に、立ちまわりが悪い嘘つくよりは少し間抜けな泥棒の方が\\n3. 集まりがあるようですね終わり終わり こっちきて 終わり終わり、はいリーダー何か仕事ですか？仕事ですか？ではなくてね\\n4. あなたの事、友達が何を言ってるか知ってますか？あら、見込みがないから早く足を速くして敵に戻せとみんなが愚痴ってるんだよね、どうする？\\n5. 泥棒をやめるか、足洗うか、そう言ってますか？ 自分でもまあ地面ばかり踏み固めてるってのはよくわかってるの？\\n6. これから真心を持って悪行に専念しますから 今までより忘れてください。これで同意していることを語ってるんです。', role='assistant', function_call=None, tool_calls=None)"
      ]
     },
     "execution_count": 13,
     "metadata": {},
     "output_type": "execute_result"
    }
   ],
   "source": [
    "completion.choices[0].message"
   ]
  },
  {
   "cell_type": "code",
   "execution_count": 14,
   "metadata": {},
   "outputs": [
    {
     "name": "stdout",
     "output_type": "stream",
     "text": [
      "\n",
      "JLPTレベル: N4\n",
      "\n",
      "落語の節:\n",
      "\n",
      "1. 練習したような小さい白松がいます 名前は旬風ていちの助と言います\n",
      "2. 嘘つきは泥棒の始まりとは そうですね本当に、立ちまわりが悪い嘘つくよりは少し間抜けな泥棒の方が\n",
      "3. 集まりがあるようですね終わり終わり こっちきて 終わり終わり、はいリーダー何か仕事ですか？仕事ですか？ではなくてね\n",
      "4. あなたの事、友達が何を言ってるか知ってますか？あら、見込みがないから早く足を速くして敵に戻せとみんなが愚痴ってるんだよね、どうする？\n",
      "5. 泥棒をやめるか、足洗うか、そう言ってますか？ 自分でもまあ地面ばかり踏み固めてるってのはよくわかってるの？\n",
      "6. これから真心を持って悪行に専念しますから 今までより忘れてください。これで同意していることを語ってるんです。\n"
     ]
    }
   ],
   "source": [
    "completion_output = completion.choices[0].message.content\n",
    "print(completion_output)"
   ]
  },
  {
   "cell_type": "code",
   "execution_count": 15,
   "metadata": {},
   "outputs": [
    {
     "name": "stdout",
     "output_type": "stream",
     "text": [
      "6  sentences found from  6  sentences\n",
      "['練習したような小さい白松がいます 名前は旬風ていちの助と言います', '嘘つきは泥棒の始まりとは そうですね本当に、立ちまわりが悪い嘘つくよりは少し間抜けな泥棒の方が', '集まりがあるようですね終わり終わり こっちきて 終わり終わり、はいリーダー何か仕事ですか？仕事ですか？ではなくてね', 'あなたの事、友達が何を言ってるか知ってますか？あら、見込みがないから早く足を速くして敵に戻せとみんなが愚痴ってるんだよね、どうする？', '泥棒をやめるか、足洗うか、そう言ってますか？ 自分でもまあ地面ばかり踏み固めてるってのはよくわかってるの？', 'これから真心を持って悪行に専念しますから 今までより忘れてください。これで同意していることを語ってるんです。']\n"
     ]
    }
   ],
   "source": [
    "# save the easified text using regex\n",
    "# \"number\". \"sentence\" -> \"sentence\"\n",
    "import re\n",
    "\n",
    "easified_sentences = re.findall(r\"\\d+\\. (.+)\", completion_output)\n",
    "print(len(easified_sentences), \" sentences found from \", len(segments), \" sentences\")\n",
    "print(easified_sentences)"
   ]
  },
  {
   "cell_type": "markdown",
   "metadata": {},
   "source": [
    "## Text to speech\n",
    "Objectives\n",
    "1. Synchronise with timestamps ✅\n",
    "2. Use same voice ✅"
   ]
  },
  {
   "cell_type": "code",
   "execution_count": 16,
   "metadata": {},
   "outputs": [],
   "source": [
    "ELEVENLABS_API_KEY = os.getenv(\"ELEVENLABS_API_KEY\")"
   ]
  },
  {
   "cell_type": "code",
   "execution_count": 17,
   "metadata": {},
   "outputs": [],
   "source": [
    "audio_file_paths = [str(shortened_audio_file_path)]"
   ]
  },
  {
   "cell_type": "code",
   "execution_count": 18,
   "metadata": {},
   "outputs": [],
   "source": [
    "from elevenlabs import clone, generate, play\n",
    "\n",
    "voice = clone(\n",
    "    api_key=ELEVENLABS_API_KEY,\n",
    "    name=\"rakugo_v1\",\n",
    "    files=audio_file_paths,\n",
    ")"
   ]
  },
  {
   "cell_type": "code",
   "execution_count": 19,
   "metadata": {},
   "outputs": [],
   "source": [
    "audios = []\n",
    "for sentence in easified_sentences:\n",
    "    audio = generate(\n",
    "        api_key=ELEVENLABS_API_KEY,\n",
    "        text=sentence,\n",
    "        voice=voice,\n",
    "        model=\"eleven_multilingual_v2\",\n",
    "        output_format=\"mp3_44100_128\"\n",
    "    )\n",
    "    audios.append(audio)"
   ]
  },
  {
   "cell_type": "code",
   "execution_count": 20,
   "metadata": {},
   "outputs": [],
   "source": [
    "# play(audios[0])"
   ]
  },
  {
   "cell_type": "code",
   "execution_count": 21,
   "metadata": {},
   "outputs": [],
   "source": [
    "temp_res_file_path = os.path.join(data_path, \"temp_results\")\n",
    "os.makedirs(temp_res_file_path, exist_ok=True)"
   ]
  },
  {
   "cell_type": "code",
   "execution_count": 22,
   "metadata": {},
   "outputs": [
    {
     "name": "stdout",
     "output_type": "stream",
     "text": [
      "audio file saved to /Users/howardtangkulung/code/personal_projects/rakugo/local_data/temp_results/rakugo_v1_0.mp3\n",
      "audio file saved to /Users/howardtangkulung/code/personal_projects/rakugo/local_data/temp_results/rakugo_v1_1.mp3\n",
      "audio file saved to /Users/howardtangkulung/code/personal_projects/rakugo/local_data/temp_results/rakugo_v1_2.mp3\n",
      "audio file saved to /Users/howardtangkulung/code/personal_projects/rakugo/local_data/temp_results/rakugo_v1_3.mp3\n",
      "audio file saved to /Users/howardtangkulung/code/personal_projects/rakugo/local_data/temp_results/rakugo_v1_4.mp3\n",
      "audio file saved to /Users/howardtangkulung/code/personal_projects/rakugo/local_data/temp_results/rakugo_v1_5.mp3\n"
     ]
    }
   ],
   "source": [
    "# save generated audio to mp3\n",
    "for i, audio in enumerate(audios):\n",
    "    audio_file_path = os.path.join(temp_res_file_path, f\"rakugo_v1_{i}.mp3\")\n",
    "    with open(audio_file_path, \"wb\") as f:\n",
    "        f.write(audio)\n",
    "    print(f\"audio file saved to {audio_file_path}\")"
   ]
  },
  {
   "cell_type": "code",
   "execution_count": 23,
   "metadata": {},
   "outputs": [
    {
     "name": "stdout",
     "output_type": "stream",
     "text": [
      "original audio duration 4.911 segment duration 6.959999084472656 speed 0.7056035410918585\n",
      "speeded audio with speed 1\n",
      "audio file saved\n",
      "original audio duration 8.96 segment duration 7.920000076293945 speed 1.1313131204151086\n",
      "speeded audio with speed 1.25\n",
      "audio file saved\n",
      "original audio duration 7.784 segment duration 7.239999771118164 speed 1.0751381555358557\n",
      "speeded audio with speed 1\n",
      "audio file saved\n",
      "original audio duration 9.744 segment duration 8.0 speed 1.218\n",
      "speeded audio with speed 1.25\n",
      "audio file saved\n",
      "original audio duration 6.165 segment duration 6.760002136230469 speed 0.9119819603249038\n",
      "speeded audio with speed 1\n",
      "audio file saved\n",
      "original audio duration 7.602 segment duration 8.680000305175781 speed 0.8758064208208631\n",
      "speeded audio with speed 1\n",
      "audio file saved\n"
     ]
    }
   ],
   "source": [
    "# speed up audio according to segments start and end\n",
    "\n",
    "from pydub import AudioSegment\n",
    "from pydub.effects import speedup\n",
    "\n",
    "for i, segment in enumerate(segments):\n",
    "    audio_file_path = os.path.join(temp_res_file_path, f\"rakugo_v1_{i}.mp3\")\n",
    "    audio = AudioSegment.from_file(audio_file_path, format=\"mp3\")\n",
    "    audio_dur = len(audio) / 1000\n",
    "    speed = audio_dur / (segment['end'] - segment['start'])\n",
    "    print(\"original audio duration\", audio_dur, \"segment duration\", segment['end'] - segment['start'], \"speed\", speed)\n",
    "    # round speed to nearest from 1, 1.25, 1.5\n",
    "    speed = round(speed*4) / 4\n",
    "    if speed <= 1:\n",
    "        speed = 1\n",
    "        speeded_audio = audio\n",
    "    else:\n",
    "        speeded_audio = speedup(audio, speed)\n",
    "    print(f\"speeded audio with speed {speed}\")\n",
    "    speeded_audio.export(os.path.join(temp_res_file_path, f\"rakugo_v1_{i}_speeded.mp3\"), format=\"mp3\")\n",
    "    print(f\"audio file saved\")"
   ]
  },
  {
   "cell_type": "code",
   "execution_count": 26,
   "metadata": {},
   "outputs": [
    {
     "name": "stdout",
     "output_type": "stream",
     "text": [
      "current_time 16040.000915527344 segment start 16.040000915527344 segment end 23.0\n",
      "current_time 23000.0 segment start 23.0 segment end 30.920000076293945\n",
      "current_time 30920.000076293945 segment start 30.920000076293945 segment end 38.15999984741211\n",
      "current_time 38159.99984741211 segment start 38.15999984741211 segment end 46.15999984741211\n",
      "current_time 46639.99938964844 segment start 46.63999938964844 segment end 53.400001525878906\n",
      "current_time 53400.001525878906 segment start 53.400001525878906 segment end 62.08000183105469\n"
     ]
    },
    {
     "data": {
      "text/plain": [
       "<_io.BufferedRandom name='/Users/howardtangkulung/code/personal_projects/rakugo/local_data/temp_results/rakugo_v1_merged.mp3'>"
      ]
     },
     "execution_count": 26,
     "metadata": {},
     "output_type": "execute_result"
    }
   ],
   "source": [
    "# merge speeded audio according to segments start and end\n",
    "# use the first segment start time as the start time of the merged audio\n",
    "# fill first silence with original audio\n",
    "for i, segment in enumerate(segments):\n",
    "    audio_file_path = os.path.join(temp_res_file_path, f\"rakugo_v1_{i}_speeded.mp3\")\n",
    "    original_audio_file_path = os.path.join(data_path, \"rakugo_v1_shortened.mp3\")\n",
    "    original_audio = AudioSegment.from_file(original_audio_file_path, format=\"mp3\")\n",
    "    audio = AudioSegment.from_file(audio_file_path, format=\"mp3\")\n",
    "    current_time = segment['start'] * 1000\n",
    "    print(\"current_time\", current_time, \"segment start\", segment['start'], \"segment end\", segment['end'])\n",
    "    if i == 0:\n",
    "        fill_dur = current_time\n",
    "        fill = original_audio[:fill_dur]\n",
    "        merged_audio = fill + audio\n",
    "    else:\n",
    "        silence_dur = segment['start'] * 1000 - current_time\n",
    "        silence = AudioSegment.silent(duration=silence_dur)\n",
    "        merged_audio = merged_audio + silence + audio\n",
    "    current_time = len(merged_audio)\n",
    "\n",
    "merged_audio.export(os.path.join(temp_res_file_path, f\"rakugo_v1_merged.mp3\"), format=\"mp3\")"
   ]
  },
  {
   "cell_type": "code",
   "execution_count": 27,
   "metadata": {},
   "outputs": [
    {
     "name": "stdout",
     "output_type": "stream",
     "text": [
      "Moviepy - Building video /Users/howardtangkulung/code/personal_projects/rakugo/local_data/final_results/rakugo_v1_final.mp4.\n",
      "MoviePy - Writing audio in rakugo_v1_finalTEMP_MPY_wvf_snd.mp3\n"
     ]
    },
    {
     "name": "stderr",
     "output_type": "stream",
     "text": [
      "                                                                      \r"
     ]
    },
    {
     "name": "stdout",
     "output_type": "stream",
     "text": [
      "MoviePy - Done.\n",
      "Moviepy - Writing video /Users/howardtangkulung/code/personal_projects/rakugo/local_data/final_results/rakugo_v1_final.mp4\n",
      "\n"
     ]
    },
    {
     "name": "stderr",
     "output_type": "stream",
     "text": [
      "                                                                 \r"
     ]
    },
    {
     "name": "stdout",
     "output_type": "stream",
     "text": [
      "Moviepy - Done !\n",
      "Moviepy - video ready /Users/howardtangkulung/code/personal_projects/rakugo/local_data/final_results/rakugo_v1_final.mp4\n"
     ]
    }
   ],
   "source": [
    "import moviepy.editor as mp\n",
    "\n",
    "final_res_file_path = os.path.join(data_path, \"final_results\")\n",
    "\n",
    "audio = mp.AudioFileClip(os.path.join(temp_res_file_path, \"rakugo_v1_merged.mp3\"))\n",
    "video1 = mp.VideoFileClip(shortened_video_file_path)\n",
    "final = video1.set_audio(audio)\n",
    "\n",
    "final.write_videofile(os.path.join(final_res_file_path, \"rakugo_v1_final.mp4\"))"
   ]
  },
  {
   "cell_type": "code",
   "execution_count": 28,
   "metadata": {},
   "outputs": [],
   "source": [
    "import glob\n",
    "\n",
    "files = glob.glob(os.path.join(temp_res_file_path, \"*.mp3\"))\n",
    "for f in files:\n",
    "    os.remove(f)"
   ]
  },
  {
   "cell_type": "code",
   "execution_count": null,
   "metadata": {},
   "outputs": [],
   "source": []
  }
 ],
 "metadata": {
  "kernelspec": {
   "display_name": "rakugo",
   "language": "python",
   "name": "python3"
  },
  "language_info": {
   "codemirror_mode": {
    "name": "ipython",
    "version": 3
   },
   "file_extension": ".py",
   "mimetype": "text/x-python",
   "name": "python",
   "nbconvert_exporter": "python",
   "pygments_lexer": "ipython3",
   "version": "3.10.6"
  }
 },
 "nbformat": 4,
 "nbformat_minor": 2
}
