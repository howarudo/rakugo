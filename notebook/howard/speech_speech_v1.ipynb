{
 "cells": [
  {
   "cell_type": "markdown",
   "metadata": {},
   "source": [
    "# Speech to Speech Flow"
   ]
  },
  {
   "cell_type": "markdown",
   "metadata": {},
   "source": [
    "## Speech to Text\n",
    "Objectives:\n",
    "1. Transcribe text　✅\n",
    "2. Preserve timestamp　✅"
   ]
  },
  {
   "cell_type": "code",
   "execution_count": 1,
   "metadata": {},
   "outputs": [],
   "source": [
    "from pathlib import Path\n",
    "import pytube as pt\n",
    "from openai import OpenAI\n",
    "import os\n",
    "from dotenv import load_dotenv\n",
    "\n",
    "dotenv_path = Path(\"__file__\").resolve().parents[1].parents[0] / '.local.env'\n",
    "load_dotenv(dotenv_path)\n",
    "\n",
    "OpenAI.api_key = os.getenv(\"OPENAI_API_KEY\")\n",
    "data_path = Path(\"__file__\").resolve().parents[1].parents[0] / \"local_data\""
   ]
  },
  {
   "cell_type": "code",
   "execution_count": 2,
   "metadata": {},
   "outputs": [],
   "source": [
    "YOUTUBE_VIDEO_URL = \"https://www.youtube.com/watch?v=g_ltie2ZGNY\""
   ]
  },
  {
   "cell_type": "code",
   "execution_count": 3,
   "metadata": {},
   "outputs": [
    {
     "data": {
      "text/plain": [
       "'/Users/howardtangkulung/code/personal_projects/rakugo/local_data/rakugo_v1.mp3'"
      ]
     },
     "execution_count": 3,
     "metadata": {},
     "output_type": "execute_result"
    }
   ],
   "source": [
    "yt = pt.YouTube(YOUTUBE_VIDEO_URL)\n",
    "stream = yt.streams.filter(only_audio=True)[0]\n",
    "audio_file_path = Path(data_path) / \"rakugo_v1.mp3\"\n",
    "stream.download(filename=audio_file_path)"
   ]
  },
  {
   "cell_type": "code",
   "execution_count": 4,
   "metadata": {},
   "outputs": [
    {
     "data": {
      "text/plain": [
       "'/Users/howardtangkulung/code/personal_projects/rakugo/local_data/rakugo_v1.mp4'"
      ]
     },
     "execution_count": 4,
     "metadata": {},
     "output_type": "execute_result"
    }
   ],
   "source": [
    "# download video as well\n",
    "video_file_path = Path(data_path) / \"rakugo_v1.mp4\"\n",
    "yt.streams.filter(progressive=True, file_extension='mp4').order_by('resolution').asc().first().download(filename=video_file_path)"
   ]
  },
  {
   "cell_type": "code",
   "execution_count": 5,
   "metadata": {},
   "outputs": [
    {
     "data": {
      "text/plain": [
       "<_io.BufferedRandom name='/Users/howardtangkulung/code/personal_projects/rakugo/local_data/rakugo_v1_short.mp3'>"
      ]
     },
     "execution_count": 5,
     "metadata": {},
     "output_type": "execute_result"
    }
   ],
   "source": [
    "# take first 2 minutes of the audio\n",
    "from pydub import AudioSegment\n",
    "audio = AudioSegment.from_file(audio_file_path)\n",
    "two_minutes = 45 * 1000\n",
    "\n",
    "audio = audio[:two_minutes]\n",
    "shortened_audio_file_path = Path(data_path) / \"rakugo_v1_short.mp3\"\n",
    "audio.export(shortened_audio_file_path, format=\"mp3\")"
   ]
  },
  {
   "cell_type": "code",
   "execution_count": 6,
   "metadata": {},
   "outputs": [],
   "source": [
    "client = OpenAI()\n",
    "\n",
    "shortened_audio_file_path = Path(data_path) / \"rakugo_v1_short.mp3\"\n",
    "audio_file= open(shortened_audio_file_path, \"rb\")\n",
    "\n",
    "transcript = client.audio.transcriptions.create(\n",
    "  file=audio_file,\n",
    "  model=\"whisper-1\",\n",
    "  response_format=\"verbose_json\",\n",
    "  timestamp_granularities=[\"segment\"]\n",
    ")"
   ]
  },
  {
   "cell_type": "code",
   "execution_count": 7,
   "metadata": {},
   "outputs": [
    {
     "name": "stdout",
     "output_type": "stream",
     "text": [
      "5 segments\n",
      "[{'id': 0, 'seek': 0, 'start': 0.0, 'end': 3.0, 'text': 'me', 'tokens': [50364, 1398, 50514], 'temperature': 0.20000000298023224, 'avg_logprob': -0.6542054414749146, 'compression_ratio': 1.0, 'no_speech_prob': 0.2711162269115448}, {'id': 1, 'seek': 0, 'start': 16.040000915527344, 'end': 22.959999084472656, 'text': 'a 練習したような小刻みの白書がございます 春風て一ノ助と申しましてまぁ', 'tokens': [51166, 64, 220, 47027, 34025, 8533, 17010, 3203, 7322, 45500, 11362, 2972, 13558, 29801, 5142, 43808, 220, 46953, 22713, 2996, 2257, 34501, 37618, 3193, 3526, 111, 45349, 8822, 37566, 51512], 'temperature': 0.20000000298023224, 'avg_logprob': -0.6542054414749146, 'compression_ratio': 1.0, 'no_speech_prob': 0.2711162269115448}]\n"
     ]
    }
   ],
   "source": [
    "print(len(transcript.segments), \"segments\")\n",
    "print(transcript.segments[:2])"
   ]
  },
  {
   "cell_type": "code",
   "execution_count": 8,
   "metadata": {},
   "outputs": [
    {
     "name": "stdout",
     "output_type": "stream",
     "text": [
      "{'text': '練習したような小刻みの白書がございます 春風て一ノ助と申しましてまぁ', 'start': 16.040000915527344, 'end': 22.959999084472656}\n",
      "{'text': '嘘つきは泥棒の始まりなんと まあねほんと猫立ちの悪い嘘つくよりはちょいと間抜けな泥棒の方が', 'start': 22.959999084472656, 'end': 30.920000076293945}\n",
      "{'text': '買い代わりようでございますおしまいしまい こっち来いしまいはい親分なんかご用ですかよですかじゃないよね', 'start': 30.920000076293945, 'end': 38.119998931884766}\n",
      "{'text': 'おめのこと仲間がなぁなんて言ってか知ってんのかねあら見込みがねからさっさと足荒ら して敵に戻したらどうだってみんな濡れると', 'start': 38.119998931884766, 'end': 47.119998931884766}\n"
     ]
    }
   ],
   "source": [
    "# remove alphanumeric characters with regex\n",
    "import re\n",
    "\n",
    "segments = []\n",
    "for segment in transcript.segments:\n",
    "    text = re.sub(r'[a-zA-Z0-9🎶]', '', segment[\"text\"]).strip()\n",
    "    start = segment[\"start\"]\n",
    "    end = segment[\"end\"]\n",
    "\n",
    "    if text and (end-start) > 2.5:\n",
    "        segments.append({\n",
    "            \"text\": text,\n",
    "            \"start\": start,\n",
    "            \"end\": end\n",
    "        })\n",
    "\n",
    "for i in range(len(segments[:5])):\n",
    "    print(segments[i])"
   ]
  },
  {
   "cell_type": "markdown",
   "metadata": {},
   "source": [
    "## Text to text\n",
    "Objectives\n",
    "1. Easify the text ✅\n",
    "2. Try to preserve the length of text ✅"
   ]
  },
  {
   "cell_type": "code",
   "execution_count": 9,
   "metadata": {},
   "outputs": [],
   "source": [
    "sentences = [segment[\"text\"] for segment in segments]"
   ]
  },
  {
   "cell_type": "code",
   "execution_count": 10,
   "metadata": {},
   "outputs": [
    {
     "name": "stdout",
     "output_type": "stream",
     "text": [
      "1. 練習したような小刻みの白書がございます 春風て一ノ助と申しましてまぁ\n",
      "2. 嘘つきは泥棒の始まりなんと まあねほんと猫立ちの悪い嘘つくよりはちょいと間抜けな泥棒の方が\n",
      "3. 買い代わりようでございますおしまいしまい こっち来いしまいはい親分なんかご用ですかよですかじゃないよね\n",
      "4. おめのこと仲間がなぁなんて言ってか知ってんのかねあら見込みがねからさっさと足荒ら して敵に戻したらどうだってみんな濡れると\n"
     ]
    }
   ],
   "source": [
    "# join segements in the format of\n",
    "# 1. segment1\n",
    "# 2. segment2\n",
    "# ...\n",
    "input_text = \"\\n\".join([f\"{i+1}. {sentence}\" for i, sentence in enumerate(sentences)])\n",
    "print(input_text)\n",
    "JLPT_LEVEL = \"N4\""
   ]
  },
  {
   "cell_type": "code",
   "execution_count": 11,
   "metadata": {},
   "outputs": [],
   "source": [
    "completion = client.chat.completions.create(\n",
    "  model=\"gpt-4\",\n",
    "  messages=[\n",
    "    {\"role\": \"system\", \"content\": \"\"\"\n",
    "    日本の落語の一節と日本語能力試験（JLPT）のレベルが与えられます。\\n\n",
    "    その節を、指定されたJLPTレベルに適した語彙を使って簡単にしてください。\\n\n",
    "    語彙のみを変更してください。文の構造や意味は変更しないでください。\\n\n",
    "     \"\"\"},\n",
    "    {\"role\": \"user\", \"content\": f\"\"\"\n",
    "    JLPTレベル: {JLPT_LEVEL}\\n\n",
    "     落語の節:\\n\n",
    "     {input_text}\n",
    "     \"\"\"}\n",
    "  ]\n",
    ")\n"
   ]
  },
  {
   "cell_type": "code",
   "execution_count": 12,
   "metadata": {},
   "outputs": [
    {
     "data": {
      "text/plain": [
       "ChatCompletionMessage(content='JLPTレベル: N4\\n\\n 落語の節:\\n\\n 1. 練習したような小さなノートがあります。春風て一ノ助と言いますが、まあ\\n2. 嘘つきは泥棒の始まりだと。まあ、本当に立ち位置の悪い嘘をつくよりは、少し愚かな泥棒の方が\\n3. 買い換えしようと思いますお終いお終い。こっち来いお終い。はい、お父さん何かしますか？はい、じゃないよね。\\n4. あなたのことを仲間がなんて言ってるか知ってるの？あら、見込みがないから早く脚をよくして敵に戻したらどうだと、みんな濡れると', role='assistant', function_call=None, tool_calls=None)"
      ]
     },
     "execution_count": 12,
     "metadata": {},
     "output_type": "execute_result"
    }
   ],
   "source": [
    "completion.choices[0].message"
   ]
  },
  {
   "cell_type": "code",
   "execution_count": 13,
   "metadata": {},
   "outputs": [
    {
     "name": "stdout",
     "output_type": "stream",
     "text": [
      "JLPTレベル: N4\n",
      "\n",
      " 落語の節:\n",
      "\n",
      " 1. 練習したような小さなノートがあります。春風て一ノ助と言いますが、まあ\n",
      "2. 嘘つきは泥棒の始まりだと。まあ、本当に立ち位置の悪い嘘をつくよりは、少し愚かな泥棒の方が\n",
      "3. 買い換えしようと思いますお終いお終い。こっち来いお終い。はい、お父さん何かしますか？はい、じゃないよね。\n",
      "4. あなたのことを仲間がなんて言ってるか知ってるの？あら、見込みがないから早く脚をよくして敵に戻したらどうだと、みんな濡れると\n"
     ]
    }
   ],
   "source": [
    "completion_output = completion.choices[0].message.content\n",
    "print(completion_output)"
   ]
  },
  {
   "cell_type": "code",
   "execution_count": 14,
   "metadata": {},
   "outputs": [
    {
     "name": "stdout",
     "output_type": "stream",
     "text": [
      "4  sentences found from  4  sentences\n",
      "['練習したような小さなノートがあります。春風て一ノ助と言いますが、まあ', '嘘つきは泥棒の始まりだと。まあ、本当に立ち位置の悪い嘘をつくよりは、少し愚かな泥棒の方が', '買い換えしようと思いますお終いお終い。こっち来いお終い。はい、お父さん何かしますか？はい、じゃないよね。', 'あなたのことを仲間がなんて言ってるか知ってるの？あら、見込みがないから早く脚をよくして敵に戻したらどうだと、みんな濡れると']\n"
     ]
    }
   ],
   "source": [
    "# save the easified text using regex\n",
    "# \"number\". \"sentence\" -> \"sentence\"\n",
    "import re\n",
    "\n",
    "easified_sentences = re.findall(r\"\\d+\\. (.+)\", completion_output)\n",
    "print(len(easified_sentences), \" sentences found from \", len(segments), \" sentences\")\n",
    "print(easified_sentences)"
   ]
  },
  {
   "cell_type": "markdown",
   "metadata": {},
   "source": [
    "## Text to speech\n",
    "Objectives\n",
    "1. Synchronise with timestamps ✅\n",
    "2. Use same voice ✅"
   ]
  },
  {
   "cell_type": "code",
   "execution_count": 15,
   "metadata": {},
   "outputs": [],
   "source": [
    "ELEVENLABS_API_KEY = os.getenv(\"ELEVENLABS_API_KEY\")"
   ]
  },
  {
   "cell_type": "code",
   "execution_count": 16,
   "metadata": {},
   "outputs": [],
   "source": [
    "audio_file_paths = [str(shortened_audio_file_path)]"
   ]
  },
  {
   "cell_type": "code",
   "execution_count": 17,
   "metadata": {},
   "outputs": [],
   "source": [
    "from elevenlabs import clone, generate, play\n",
    "\n",
    "voice = clone(\n",
    "    api_key=ELEVENLABS_API_KEY,\n",
    "    name=\"rakugo_v1\",\n",
    "    files=audio_file_paths,\n",
    ")"
   ]
  },
  {
   "cell_type": "code",
   "execution_count": 18,
   "metadata": {},
   "outputs": [],
   "source": [
    "audios = []\n",
    "for sentence in easified_sentences:\n",
    "    audio = generate(\n",
    "        api_key=ELEVENLABS_API_KEY,\n",
    "        text=sentence,\n",
    "        voice=voice,\n",
    "        model=\"eleven_multilingual_v2\",\n",
    "        output_format=\"mp3_44100_128\"\n",
    "    )\n",
    "    audios.append(audio)"
   ]
  },
  {
   "cell_type": "code",
   "execution_count": 19,
   "metadata": {},
   "outputs": [],
   "source": [
    "# play(audios[0])"
   ]
  },
  {
   "cell_type": "code",
   "execution_count": 20,
   "metadata": {},
   "outputs": [],
   "source": [
    "temp_res_file_path = Path(data_path) / \"temp_results\"\n",
    "os.makedirs(temp_res_file_path, exist_ok=True)"
   ]
  },
  {
   "cell_type": "code",
   "execution_count": 21,
   "metadata": {},
   "outputs": [
    {
     "name": "stdout",
     "output_type": "stream",
     "text": [
      "audio file saved to /Users/howardtangkulung/code/personal_projects/rakugo/local_data/temp_results/rakugo_v1_0.mp3\n",
      "audio file saved to /Users/howardtangkulung/code/personal_projects/rakugo/local_data/temp_results/rakugo_v1_1.mp3\n",
      "audio file saved to /Users/howardtangkulung/code/personal_projects/rakugo/local_data/temp_results/rakugo_v1_2.mp3\n",
      "audio file saved to /Users/howardtangkulung/code/personal_projects/rakugo/local_data/temp_results/rakugo_v1_3.mp3\n"
     ]
    }
   ],
   "source": [
    "# save generated audio to mp3\n",
    "for i, audio in enumerate(audios):\n",
    "    audio_file_path = temp_res_file_path / f\"rakugo_v1_{i}.mp3\"\n",
    "    with open(audio_file_path, \"wb\") as f:\n",
    "        f.write(audio)\n",
    "    print(f\"audio file saved to {audio_file_path}\")"
   ]
  },
  {
   "cell_type": "code",
   "execution_count": 22,
   "metadata": {},
   "outputs": [
    {
     "name": "stdout",
     "output_type": "stream",
     "text": [
      "speeded audio with speed 1\n",
      "audio file saved\n",
      "speeded audio with speed 1\n",
      "audio file saved\n",
      "speeded audio with speed 1\n",
      "audio file saved\n",
      "speeded audio with speed 1\n",
      "audio file saved\n"
     ]
    }
   ],
   "source": [
    "# speed up audio according to segments start and end\n",
    "\n",
    "from pydub import AudioSegment\n",
    "from pydub.effects import speedup\n",
    "\n",
    "for i, segment in enumerate(segments):\n",
    "    audio_file_path = temp_res_file_path / f\"rakugo_v1_{i}.mp3\"\n",
    "    audio = AudioSegment.from_file(audio_file_path, format=\"mp3\")\n",
    "    audio_dur = len(audio) / 1000\n",
    "    speed = audio_dur / (segment['end'] - segment['start'])\n",
    "    # round speed to nearest from 1, 1.25, 1.5\n",
    "    speed = round(speed*4) / 4\n",
    "    if speed <= 1:\n",
    "        speed = 1\n",
    "        speeded_audio = audio\n",
    "    else:\n",
    "        speeded_audio = speedup(audio, speed)\n",
    "    print(f\"speeded audio with speed {speed}\")\n",
    "    speeded_audio.export(temp_res_file_path / f\"rakugo_v1_{i}_speeded.mp3\", format=\"mp3\")\n",
    "    print(f\"audio file saved\")"
   ]
  },
  {
   "cell_type": "code",
   "execution_count": 23,
   "metadata": {},
   "outputs": [
    {
     "data": {
      "text/plain": [
       "<_io.BufferedRandom name='/Users/howardtangkulung/code/personal_projects/rakugo/local_data/temp_results/rakugo_v1_merged.mp3'>"
      ]
     },
     "execution_count": 23,
     "metadata": {},
     "output_type": "execute_result"
    }
   ],
   "source": [
    "# merge speeded audio according to segments start and end\n",
    "# use the first segment start time as the start time of the merged audio\n",
    "# fill first silence with original audio\n",
    "for i, segment in enumerate(segments):\n",
    "    audio_file_path = temp_res_file_path / f\"rakugo_v1_{i}_speeded.mp3\"\n",
    "    original_audio_file_path = data_path / \"rakugo_v1_short.mp3\"\n",
    "    original_audio = AudioSegment.from_file(original_audio_file_path, format=\"mp3\")\n",
    "    audio = AudioSegment.from_file(audio_file_path, format=\"mp3\")\n",
    "    current_time = segment['start'] * 1000\n",
    "    if i == 0:\n",
    "        fill_dur = current_time\n",
    "        fill = original_audio[:fill_dur]\n",
    "        merged_audio = fill + audio\n",
    "    else:\n",
    "        silence_dur = segment['start'] * 1000 - current_time\n",
    "        silence = AudioSegment.silent(duration=silence_dur)\n",
    "        merged_audio = merged_audio + silence + audio\n",
    "    current_time = len(merged_audio)\n",
    "\n",
    "merged_audio.export(temp_res_file_path / f\"rakugo_v1_merged.mp3\", format=\"mp3\")"
   ]
  },
  {
   "cell_type": "code",
   "execution_count": 24,
   "metadata": {},
   "outputs": [
    {
     "ename": "AttributeError",
     "evalue": "'PosixPath' object has no attribute 'endswith'",
     "output_type": "error",
     "traceback": [
      "\u001b[0;31m---------------------------------------------------------------------------\u001b[0m",
      "\u001b[0;31mAttributeError\u001b[0m                            Traceback (most recent call last)",
      "Cell \u001b[0;32mIn[24], line 5\u001b[0m\n\u001b[1;32m      1\u001b[0m \u001b[38;5;28;01mimport\u001b[39;00m \u001b[38;5;21;01mmoviepy\u001b[39;00m\u001b[38;5;21;01m.\u001b[39;00m\u001b[38;5;21;01meditor\u001b[39;00m \u001b[38;5;28;01mas\u001b[39;00m \u001b[38;5;21;01mmp\u001b[39;00m\n\u001b[1;32m      3\u001b[0m final_res_file_path \u001b[38;5;241m=\u001b[39m Path(data_path) \u001b[38;5;241m/\u001b[39m \u001b[38;5;124m\"\u001b[39m\u001b[38;5;124mfinal_results\u001b[39m\u001b[38;5;124m\"\u001b[39m\n\u001b[0;32m----> 5\u001b[0m audio \u001b[38;5;241m=\u001b[39m \u001b[43mmp\u001b[49m\u001b[38;5;241;43m.\u001b[39;49m\u001b[43mAudioFileClip\u001b[49m\u001b[43m(\u001b[49m\u001b[43mtemp_res_file_path\u001b[49m\u001b[43m \u001b[49m\u001b[38;5;241;43m/\u001b[39;49m\u001b[43m \u001b[49m\u001b[38;5;124;43m\"\u001b[39;49m\u001b[38;5;124;43mrakugo_v1_merged.mp3\u001b[39;49m\u001b[38;5;124;43m\"\u001b[39;49m\u001b[43m)\u001b[49m\n\u001b[1;32m      6\u001b[0m video1 \u001b[38;5;241m=\u001b[39m mp\u001b[38;5;241m.\u001b[39mVideoFileClip(video_file_path \u001b[38;5;241m/\u001b[39m \u001b[38;5;124m\"\u001b[39m\u001b[38;5;124mrakugo_v1.mp4\u001b[39m\u001b[38;5;124m\"\u001b[39m)\n\u001b[1;32m      7\u001b[0m final \u001b[38;5;241m=\u001b[39m video1\u001b[38;5;241m.\u001b[39mset_audio(audio)\n",
      "File \u001b[0;32m~/.pyenv/versions/3.10.6/envs/rakugo/lib/python3.10/site-packages/moviepy/audio/io/AudioFileClip.py:70\u001b[0m, in \u001b[0;36mAudioFileClip.__init__\u001b[0;34m(self, filename, buffersize, nbytes, fps)\u001b[0m\n\u001b[1;32m     67\u001b[0m AudioClip\u001b[38;5;241m.\u001b[39m\u001b[38;5;21m__init__\u001b[39m(\u001b[38;5;28mself\u001b[39m)\n\u001b[1;32m     69\u001b[0m \u001b[38;5;28mself\u001b[39m\u001b[38;5;241m.\u001b[39mfilename \u001b[38;5;241m=\u001b[39m filename\n\u001b[0;32m---> 70\u001b[0m \u001b[38;5;28mself\u001b[39m\u001b[38;5;241m.\u001b[39mreader \u001b[38;5;241m=\u001b[39m \u001b[43mFFMPEG_AudioReader\u001b[49m\u001b[43m(\u001b[49m\u001b[43mfilename\u001b[49m\u001b[43m,\u001b[49m\u001b[43m \u001b[49m\u001b[43mfps\u001b[49m\u001b[38;5;241;43m=\u001b[39;49m\u001b[43mfps\u001b[49m\u001b[43m,\u001b[49m\u001b[43m \u001b[49m\u001b[43mnbytes\u001b[49m\u001b[38;5;241;43m=\u001b[39;49m\u001b[43mnbytes\u001b[49m\u001b[43m,\u001b[49m\n\u001b[1;32m     71\u001b[0m \u001b[43m                                 \u001b[49m\u001b[43mbuffersize\u001b[49m\u001b[38;5;241;43m=\u001b[39;49m\u001b[43mbuffersize\u001b[49m\u001b[43m)\u001b[49m\n\u001b[1;32m     72\u001b[0m \u001b[38;5;28mself\u001b[39m\u001b[38;5;241m.\u001b[39mfps \u001b[38;5;241m=\u001b[39m fps\n\u001b[1;32m     73\u001b[0m \u001b[38;5;28mself\u001b[39m\u001b[38;5;241m.\u001b[39mduration \u001b[38;5;241m=\u001b[39m \u001b[38;5;28mself\u001b[39m\u001b[38;5;241m.\u001b[39mreader\u001b[38;5;241m.\u001b[39mduration\n",
      "File \u001b[0;32m~/.pyenv/versions/3.10.6/envs/rakugo/lib/python3.10/site-packages/moviepy/audio/io/readers.py:51\u001b[0m, in \u001b[0;36mFFMPEG_AudioReader.__init__\u001b[0;34m(self, filename, buffersize, print_infos, fps, nbytes, nchannels)\u001b[0m\n\u001b[1;32m     49\u001b[0m \u001b[38;5;28mself\u001b[39m\u001b[38;5;241m.\u001b[39macodec \u001b[38;5;241m=\u001b[39m \u001b[38;5;124m'\u001b[39m\u001b[38;5;124mpcm_s\u001b[39m\u001b[38;5;132;01m%d\u001b[39;00m\u001b[38;5;124mle\u001b[39m\u001b[38;5;124m'\u001b[39m\u001b[38;5;241m%\u001b[39m(\u001b[38;5;241m8\u001b[39m\u001b[38;5;241m*\u001b[39mnbytes)\n\u001b[1;32m     50\u001b[0m \u001b[38;5;28mself\u001b[39m\u001b[38;5;241m.\u001b[39mnchannels \u001b[38;5;241m=\u001b[39m nchannels\n\u001b[0;32m---> 51\u001b[0m infos \u001b[38;5;241m=\u001b[39m \u001b[43mffmpeg_parse_infos\u001b[49m\u001b[43m(\u001b[49m\u001b[43mfilename\u001b[49m\u001b[43m)\u001b[49m\n\u001b[1;32m     52\u001b[0m \u001b[38;5;28mself\u001b[39m\u001b[38;5;241m.\u001b[39mduration \u001b[38;5;241m=\u001b[39m infos[\u001b[38;5;124m'\u001b[39m\u001b[38;5;124mduration\u001b[39m\u001b[38;5;124m'\u001b[39m]\n\u001b[1;32m     53\u001b[0m \u001b[38;5;28;01mif\u001b[39;00m \u001b[38;5;124m'\u001b[39m\u001b[38;5;124mvideo_duration\u001b[39m\u001b[38;5;124m'\u001b[39m \u001b[38;5;129;01min\u001b[39;00m infos:\n",
      "File \u001b[0;32m~/.pyenv/versions/3.10.6/envs/rakugo/lib/python3.10/site-packages/moviepy/video/io/ffmpeg_reader.py:244\u001b[0m, in \u001b[0;36mffmpeg_parse_infos\u001b[0;34m(filename, print_infos, check_duration, fps_source)\u001b[0m\n\u001b[1;32m    231\u001b[0m \u001b[38;5;250m\u001b[39m\u001b[38;5;124;03m\"\"\"Get file infos using ffmpeg.\u001b[39;00m\n\u001b[1;32m    232\u001b[0m \n\u001b[1;32m    233\u001b[0m \u001b[38;5;124;03mReturns a dictionnary with the fields:\u001b[39;00m\n\u001b[0;32m   (...)\u001b[0m\n\u001b[1;32m    239\u001b[0m \n\u001b[1;32m    240\u001b[0m \u001b[38;5;124;03m\"\"\"\u001b[39;00m\n\u001b[1;32m    243\u001b[0m \u001b[38;5;66;03m# open the file in a pipe, provoke an error, read output\u001b[39;00m\n\u001b[0;32m--> 244\u001b[0m is_GIF \u001b[38;5;241m=\u001b[39m \u001b[43mfilename\u001b[49m\u001b[38;5;241;43m.\u001b[39;49m\u001b[43mendswith\u001b[49m(\u001b[38;5;124m'\u001b[39m\u001b[38;5;124m.gif\u001b[39m\u001b[38;5;124m'\u001b[39m)\n\u001b[1;32m    245\u001b[0m cmd \u001b[38;5;241m=\u001b[39m [get_setting(\u001b[38;5;124m\"\u001b[39m\u001b[38;5;124mFFMPEG_BINARY\u001b[39m\u001b[38;5;124m\"\u001b[39m), \u001b[38;5;124m\"\u001b[39m\u001b[38;5;124m-i\u001b[39m\u001b[38;5;124m\"\u001b[39m, filename]\n\u001b[1;32m    246\u001b[0m \u001b[38;5;28;01mif\u001b[39;00m is_GIF:\n",
      "\u001b[0;31mAttributeError\u001b[0m: 'PosixPath' object has no attribute 'endswith'"
     ]
    }
   ],
   "source": [
    "# import moviepy.editor as mp\n",
    "\n",
    "# final_res_file_path = Path(data_path) / \"final_results\"\n",
    "\n",
    "# audio = mp.AudioFileClip(temp_res_file_path / \"rakugo_v1_merged.mp3\")\n",
    "# video1 = mp.VideoFileClip(video_file_path / \"rakugo_v1.mp4\")\n",
    "# final = video1.set_audio(audio)\n",
    "\n",
    "# final.write_videofile(final_res_file_path / \"rakugo_v1_final.mp4\")"
   ]
  },
  {
   "cell_type": "code",
   "execution_count": null,
   "metadata": {},
   "outputs": [],
   "source": [
    "import glob\n",
    "\n",
    "files = glob.glob(str(temp_res_file_path / \"*.mp3\"))\n",
    "for f in files:\n",
    "    os.remove(f)"
   ]
  }
 ],
 "metadata": {
  "kernelspec": {
   "display_name": "rakugo",
   "language": "python",
   "name": "python3"
  },
  "language_info": {
   "codemirror_mode": {
    "name": "ipython",
    "version": 3
   },
   "file_extension": ".py",
   "mimetype": "text/x-python",
   "name": "python",
   "nbconvert_exporter": "python",
   "pygments_lexer": "ipython3",
   "version": "3.10.6"
  }
 },
 "nbformat": 4,
 "nbformat_minor": 2
}
