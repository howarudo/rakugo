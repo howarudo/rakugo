{
 "cells": [
  {
   "cell_type": "markdown",
   "metadata": {},
   "source": [
    "# Speech to Speech Flow"
   ]
  },
  {
   "cell_type": "markdown",
   "metadata": {},
   "source": [
    "## Speech to Text\n",
    "Objectives:\n",
    "1. Transcribe text\n",
    "2. Preserve timestamp"
   ]
  },
  {
   "cell_type": "code",
   "execution_count": 63,
   "metadata": {},
   "outputs": [],
   "source": [
    "from pathlib import Path\n",
    "import pytube as pt\n",
    "from openai import OpenAI\n",
    "import os\n",
    "from dotenv import load_dotenv\n",
    "\n",
    "dotenv_path = Path(\"__file__\").resolve().parents[1].parents[0] / '.local.env'\n",
    "load_dotenv(dotenv_path)\n",
    "\n",
    "OpenAI.api_key = os.getenv(\"OPENAI_API_KEY\")\n",
    "data_path = Path(\"__file__\").resolve().parents[1].parents[0] / \"local_data\""
   ]
  },
  {
   "cell_type": "code",
   "execution_count": 64,
   "metadata": {},
   "outputs": [],
   "source": [
    "YOUTUBE_VIDEO_URL = \"https://www.youtube.com/watch?v=uTw-XjaWFTg\""
   ]
  },
  {
   "cell_type": "code",
   "execution_count": 65,
   "metadata": {},
   "outputs": [
    {
     "ename": "AgeRestrictedError",
     "evalue": "uTw-XjaWFTg is age restricted, and can't be accessed without logging in.",
     "output_type": "error",
     "traceback": [
      "\u001b[0;31m---------------------------------------------------------------------------\u001b[0m",
      "\u001b[0;31mAgeRestrictedError\u001b[0m                        Traceback (most recent call last)",
      "Cell \u001b[0;32mIn[65], line 2\u001b[0m\n\u001b[1;32m      1\u001b[0m yt \u001b[38;5;241m=\u001b[39m pt\u001b[38;5;241m.\u001b[39mYouTube(YOUTUBE_VIDEO_URL)\n\u001b[0;32m----> 2\u001b[0m stream \u001b[38;5;241m=\u001b[39m \u001b[43myt\u001b[49m\u001b[38;5;241;43m.\u001b[39;49m\u001b[43mstreams\u001b[49m\u001b[38;5;241m.\u001b[39mfilter(only_audio\u001b[38;5;241m=\u001b[39m\u001b[38;5;28;01mTrue\u001b[39;00m, use_oauth \u001b[38;5;241m=\u001b[39m \u001b[38;5;28;01mTrue\u001b[39;00m, allow_oauth_cache\u001b[38;5;241m=\u001b[39m\u001b[38;5;28;01mTrue\u001b[39;00m, )[\u001b[38;5;241m0\u001b[39m]\n\u001b[1;32m      3\u001b[0m audio_file_path \u001b[38;5;241m=\u001b[39m Path(data_path) \u001b[38;5;241m/\u001b[39m \u001b[38;5;124m\"\u001b[39m\u001b[38;5;124mrakugo_v1.mp3\u001b[39m\u001b[38;5;124m\"\u001b[39m\n\u001b[1;32m      4\u001b[0m stream\u001b[38;5;241m.\u001b[39mdownload(filename\u001b[38;5;241m=\u001b[39maudio_file_path)\n",
      "File \u001b[0;32m~/.pyenv/versions/3.10.6/envs/rakugo/lib/python3.10/site-packages/pytube/__main__.py:296\u001b[0m, in \u001b[0;36mYouTube.streams\u001b[0;34m(self)\u001b[0m\n\u001b[1;32m    291\u001b[0m \u001b[38;5;250m\u001b[39m\u001b[38;5;124;03m\"\"\"Interface to query both adaptive (DASH) and progressive streams.\u001b[39;00m\n\u001b[1;32m    292\u001b[0m \n\u001b[1;32m    293\u001b[0m \u001b[38;5;124;03m:rtype: :class:`StreamQuery <StreamQuery>`.\u001b[39;00m\n\u001b[1;32m    294\u001b[0m \u001b[38;5;124;03m\"\"\"\u001b[39;00m\n\u001b[1;32m    295\u001b[0m \u001b[38;5;28mself\u001b[39m\u001b[38;5;241m.\u001b[39mcheck_availability()\n\u001b[0;32m--> 296\u001b[0m \u001b[38;5;28;01mreturn\u001b[39;00m StreamQuery(\u001b[38;5;28;43mself\u001b[39;49m\u001b[38;5;241;43m.\u001b[39;49m\u001b[43mfmt_streams\u001b[49m)\n",
      "File \u001b[0;32m~/.pyenv/versions/3.10.6/envs/rakugo/lib/python3.10/site-packages/pytube/__main__.py:176\u001b[0m, in \u001b[0;36mYouTube.fmt_streams\u001b[0;34m(self)\u001b[0m\n\u001b[1;32m    172\u001b[0m     \u001b[38;5;28;01mreturn\u001b[39;00m \u001b[38;5;28mself\u001b[39m\u001b[38;5;241m.\u001b[39m_fmt_streams\n\u001b[1;32m    174\u001b[0m \u001b[38;5;28mself\u001b[39m\u001b[38;5;241m.\u001b[39m_fmt_streams \u001b[38;5;241m=\u001b[39m []\n\u001b[0;32m--> 176\u001b[0m stream_manifest \u001b[38;5;241m=\u001b[39m extract\u001b[38;5;241m.\u001b[39mapply_descrambler(\u001b[38;5;28;43mself\u001b[39;49m\u001b[38;5;241;43m.\u001b[39;49m\u001b[43mstreaming_data\u001b[49m)\n\u001b[1;32m    178\u001b[0m \u001b[38;5;66;03m# If the cached js doesn't work, try fetching a new js file\u001b[39;00m\n\u001b[1;32m    179\u001b[0m \u001b[38;5;66;03m# https://github.com/pytube/pytube/issues/1054\u001b[39;00m\n\u001b[1;32m    180\u001b[0m \u001b[38;5;28;01mtry\u001b[39;00m:\n",
      "File \u001b[0;32m~/.pyenv/versions/3.10.6/envs/rakugo/lib/python3.10/site-packages/pytube/__main__.py:160\u001b[0m, in \u001b[0;36mYouTube.streaming_data\u001b[0;34m(self)\u001b[0m\n\u001b[1;32m    158\u001b[0m     \u001b[38;5;28;01mreturn\u001b[39;00m \u001b[38;5;28mself\u001b[39m\u001b[38;5;241m.\u001b[39mvid_info[\u001b[38;5;124m'\u001b[39m\u001b[38;5;124mstreamingData\u001b[39m\u001b[38;5;124m'\u001b[39m]\n\u001b[1;32m    159\u001b[0m \u001b[38;5;28;01melse\u001b[39;00m:\n\u001b[0;32m--> 160\u001b[0m     \u001b[38;5;28;43mself\u001b[39;49m\u001b[38;5;241;43m.\u001b[39;49m\u001b[43mbypass_age_gate\u001b[49m\u001b[43m(\u001b[49m\u001b[43m)\u001b[49m\n\u001b[1;32m    161\u001b[0m     \u001b[38;5;28;01mreturn\u001b[39;00m \u001b[38;5;28mself\u001b[39m\u001b[38;5;241m.\u001b[39mvid_info[\u001b[38;5;124m'\u001b[39m\u001b[38;5;124mstreamingData\u001b[39m\u001b[38;5;124m'\u001b[39m]\n",
      "File \u001b[0;32m~/.pyenv/versions/3.10.6/envs/rakugo/lib/python3.10/site-packages/pytube/__main__.py:264\u001b[0m, in \u001b[0;36mYouTube.bypass_age_gate\u001b[0;34m(self)\u001b[0m\n\u001b[1;32m    261\u001b[0m \u001b[38;5;66;03m# If we still can't access the video, raise an exception\u001b[39;00m\n\u001b[1;32m    262\u001b[0m \u001b[38;5;66;03m# (tier 3 age restriction)\u001b[39;00m\n\u001b[1;32m    263\u001b[0m \u001b[38;5;28;01mif\u001b[39;00m playability_status \u001b[38;5;241m==\u001b[39m \u001b[38;5;124m'\u001b[39m\u001b[38;5;124mUNPLAYABLE\u001b[39m\u001b[38;5;124m'\u001b[39m:\n\u001b[0;32m--> 264\u001b[0m     \u001b[38;5;28;01mraise\u001b[39;00m exceptions\u001b[38;5;241m.\u001b[39mAgeRestrictedError(\u001b[38;5;28mself\u001b[39m\u001b[38;5;241m.\u001b[39mvideo_id)\n\u001b[1;32m    266\u001b[0m \u001b[38;5;28mself\u001b[39m\u001b[38;5;241m.\u001b[39m_vid_info \u001b[38;5;241m=\u001b[39m innertube_response\n",
      "\u001b[0;31mAgeRestrictedError\u001b[0m: uTw-XjaWFTg is age restricted, and can't be accessed without logging in."
     ]
    }
   ],
   "source": [
    "yt = pt.YouTube(YOUTUBE_VIDEO_URL)\n",
    "stream = yt.streams.filter(only_audio=True, use_oauth = True, allow_oauth_cache=True, )[0]\n",
    "audio_file_path = Path(data_path) / \"rakugo_v1.mp3\"\n",
    "stream.download(filename=audio_file_path)"
   ]
  },
  {
   "cell_type": "code",
   "execution_count": 28,
   "metadata": {},
   "outputs": [],
   "source": [
    "# from pydub import AudioSegment\n",
    "# audio = AudioSegment.from_file(audio_file_path)\n",
    "# two_minutes = 120 * 1000\n",
    "\n",
    "# audio = audio[:two_minutes]\n",
    "# shortened_audio_file_path = Path(data_path) / \"rakugo_v1_short.mp3\"\n",
    "# audio.export(shortened_audio_file_path, format=\"mp3\")"
   ]
  },
  {
   "cell_type": "code",
   "execution_count": 29,
   "metadata": {},
   "outputs": [],
   "source": [
    "client = OpenAI()\n",
    "\n",
    "shortened_audio_file_path = Path(data_path) / \"rakugo_v1_short.mp3\"\n",
    "audio_file= open(audio_file_path, \"rb\")\n",
    "\n",
    "transcript = client.audio.transcriptions.create(\n",
    "  file=audio_file_path,\n",
    "  model=\"whisper-1\",\n",
    "  response_format=\"verbose_json\",\n",
    "  timestamp_granularities=[\"word\"]\n",
    ")"
   ]
  },
  {
   "cell_type": "code",
   "execution_count": 30,
   "metadata": {},
   "outputs": [
    {
     "data": {
      "text/plain": [
       "[{'word': 'me', 'start': 15.539999961853027, 'end': 15.880000114440918},\n",
       " {'word': 'a', 'start': 15.880000114440918, 'end': 11.319999694824219},\n",
       " {'word': '練', 'start': 16.219999313354492, 'end': 17.059999465942383},\n",
       " {'word': '習', 'start': 17.059999465942383, 'end': 17.200000762939453},\n",
       " {'word': 'した', 'start': 17.200000762939453, 'end': 17.420000076293945},\n",
       " {'word': 'よう', 'start': 17.420000076293945, 'end': 17.520000457763672},\n",
       " {'word': 'な', 'start': 17.520000457763672, 'end': 17.65999984741211},\n",
       " {'word': '小', 'start': 17.65999984741211, 'end': 17.799999237060547},\n",
       " {'word': '刻', 'start': 17.799999237060547, 'end': 17.899999618530273},\n",
       " {'word': 'み', 'start': 17.899999618530273, 'end': 18.059999465942383}]"
      ]
     },
     "execution_count": 30,
     "metadata": {},
     "output_type": "execute_result"
    }
   ],
   "source": [
    "transcript.words[:10]"
   ]
  },
  {
   "cell_type": "code",
   "execution_count": 31,
   "metadata": {},
   "outputs": [
    {
     "name": "stdout",
     "output_type": "stream",
     "text": [
      "0.48859426379203796\n"
     ]
    }
   ],
   "source": [
    "# find the possible pause time between words (top 10% of pause times)\n",
    "pause_times = []\n",
    "for i in range(len(transcript.words) - 1):\n",
    "    pause_times.append(transcript.words[i+1][\"start\"] - transcript.words[i][\"end\"])\n",
    "\n",
    "# find the top 10% of pause times\n",
    "pause_times.sort()\n",
    "top_20_pause_times = pause_times[-int(len(pause_times) * 0.05):]\n",
    "average_pause_time = sum(top_20_pause_times) / len(top_20_pause_times)\n",
    "print(average_pause_time)"
   ]
  },
  {
   "cell_type": "code",
   "execution_count": 37,
   "metadata": {},
   "outputs": [
    {
     "data": {
      "image/png": "[encoded data removed]",
      "text/plain": [
       "<Figure size 640x480 with 1 Axes>"
      ]
     },
     "metadata": {},
     "output_type": "display_data"
    }
   ],
   "source": [
    "# visulaize the time between words, present the cut-off point\n",
    "import matplotlib.pyplot as plt\n",
    "import numpy as np\n",
    "\n",
    "timestamps = [word[\"start\"] for word in transcript.words]\n",
    "durations = np.diff(timestamps)\n",
    "plt.hist(durations, bins=100)\n",
    "plt.axvline(2*average_pause_time, color=\"red\", linestyle=\"--\")\n",
    "plt.xlabel(\"Duration (s)\")\n",
    "plt.ylabel(\"Count\")\n",
    "plt.show()"
   ]
  },
  {
   "cell_type": "code",
   "execution_count": 38,
   "metadata": {},
   "outputs": [
    {
     "name": "stdout",
     "output_type": "stream",
     "text": [
      "81 sentences found\n",
      "['mea練習したような小刻みの白松がございます', '春風て一ノ助と申しましてま嘘つきは泥棒の始まりなんとま', 'あねほんと猫立ちの悪い嘘つくよりはちょいと間抜けな泥棒のほうが買い代わりようでございます', 'おしまいしまいこっち来いしまいはい親分なんかご用ですかよですかじゃないよねおめのこと仲間がなぁなんて言ってか知ってんのかねあら見込みがねからさっさと足荒らして敵に戻したらどうだってみんな濡れるとのこと言ってんだよねどうするよ泥棒やめるか足洗うかあのって言ってんすか自分でもまあ土地ばかり踏んでんなってのはよくわかってんです', 'かねこれから魔法炉に立ち帰った悪事に励みます']\n",
      "[15.539999961853027, 20.579999923706055, 26.299999237060547, 32.2400016784668, 52.47999954223633]\n",
      "[19.68000030517578, 26.299999237060547, 32.2400016784668, 52.47999954223633, 56.36000061035156]\n"
     ]
    }
   ],
   "source": [
    "# group words into sentences (based on timestamps)\n",
    "# or if end in \"ます\" or \"です\"　but not \"ですよ\"\n",
    "sentences = []\n",
    "sentence = \"\"\n",
    "timestamps_start = []\n",
    "timestamps_end = []\n",
    "for word in transcript.words:\n",
    "    if sentence == \"\":\n",
    "        timestamps_start.append(word[\"start\"])\n",
    "    sentence += word[\"word\"]\n",
    "    if word[\"end\"] - word[\"start\"] > average_pause_time*2 or word[\"word\"][-2:] in [\"ます\", \"です\"]:\n",
    "        sentences.append(sentence)\n",
    "        sentence = \"\"\n",
    "        timestamps_end.append(word[\"end\"])\n",
    "\n",
    "print(len(sentences), \"sentences found\")\n",
    "print(sentences[:5])\n",
    "print(timestamps_start[:5])\n",
    "print(timestamps_end[:5])"
   ]
  },
  {
   "cell_type": "markdown",
   "metadata": {},
   "source": [
    "## Text to text\n",
    "Objectives\n",
    "1. Easify the text\n",
    "2. Try to preserve the length of text"
   ]
  },
  {
   "cell_type": "code",
   "execution_count": 39,
   "metadata": {},
   "outputs": [
    {
     "name": "stdout",
     "output_type": "stream",
     "text": [
      "1. mea練習したような小刻みの白松がございます\n",
      "2. 春風て一ノ助と申しましてま嘘つきは泥棒の始まりなんとま\n",
      "3. あねほんと猫立ちの悪い嘘つくよりはちょいと間抜けな泥棒のほうが買い代わりようでございます\n",
      "4. おしまいしまいこっち来いしまいはい親分なんかご用ですかよですかじゃないよねおめのこと仲間がなぁなんて言ってか知ってんのかねあら見込みがねからさっさと足荒らして敵に戻したらどうだってみんな濡れるとのこと言ってんだよねどうするよ泥棒やめるか足洗うかあのって言ってんすか自分でもまあ土地ばかり踏んでんなってのはよくわかってんです\n",
      "5. かねこれから魔法炉に立ち帰った悪事に励みます\n",
      "6. から今までより置いちゃってくださいこの通りで言ってることおかしいんだおめ今日はなぁ俺はおめのこと仕事連れて行っちゃうから目で見て覚えろ目で見て悪がああよろしくお願いします\n",
      "7. 勉強させていただきます\n",
      "8. 試作しな試作しななんすかしたくって蝶になすずりと筆が出るんだろう誰だかわかんねーように顔に髭を書くのが泥棒の一番のしたくらうん顔\n",
      "9. に髭を書くそ\n",
      "10. んならそっと早く言ってあちらてまんざらバカじゃないんです\n",
      "11. よ馬鹿だよお前ははいやれやすすかへこれでねこれで髭ねお会いした体裁のいい日がねいいですね揉み上げだそれ髭だよ分かってつく剪索家庭です\n",
      "12. からねですか\n",
      "13. そんな偉そうな髭じゃなくていいんだよなぞ大久保としみつめしげしちゃっ明日どっちかというとあのクラーク博士を意識してどっちでもいいんだバー花の下真っ黒いのが泥棒の姿がわかるあああああ見たことあるねそんならそうだ早く言って足立てまんざら馬鹿じゃない馬鹿なんだ早くやるよこれでねここでいいですかそれでいいやどす持ってくれどすなんかどうそそにあんたら刃物が空どうすだこれはどうするですかあそうですかこれなんどうすああこれなんでどうすってんすか\n",
      "14. どうでもいいようなことはこれは何でどうすってんすか教えてください親分ドットさしてスッと抜かれどうすればいいそう\n",
      "15. なんですかじゃあこれスッと刺してドット抜いたらスドですかこれずっと刺してバッドにはズバですかビットさ何でもいいんだバカやる飲んどけ飲んどけ飲むこれを\n",
      "16. あのオブラートあります\n",
      "17. かあれば飲めんのがこのやる懐にしまうの飲むって言うんだ懐にしまうことを飲むってあそんなら相当早く言ってない明日ってまんざらバカなんだよお前は飲んどけあそっかいいわかりゃしたいいかってねしまってはいじゃあ行きましょう長陳は置いていける夜道が物騒だから俺たち泥棒に行くんだから目立つだろう言いましょう閉じまりしろえ閉じまりしろ閉じまりをするそうだよどこの閉じまりを俺んちのだよなんで物騒だろう泥棒が入ったらどうすんだよ\n",
      "18. でも今2人出たうるさい締めるはそうっ\n",
      "19. どこ行くんすかこれから鈴川森っていうのは親木だ鈴川森ああ\n",
      "20. あああそこ物騒なところです\n",
      "21. よあの声と真っ暗ところでね声です\n",
      "22. よもう行ったらなやぶん中隠れんだよ旅人がよく通るからな来たなぁと思ったらないきなりでちゃいけねーぞちょいとやり過ごしておいて出てって後ろから声をかけんだ親木の工場っていうのがあるからなよく覚えておけなぁおいけだ多い旅人多\n",
      "23. い旅人こう知って通ったか知らずに通ったか明けの眼帳からクレロミソカまでオラが頭の縄張りたい知って通ったなら命はね知らずに通ったなら命は助けてやるその代わり身ぐるみ脱いでおいていいやと昔は最後の助け伊達には刺さねーに車が進んだんびらものうの腹におめーもうそつねわったか\n",
      "24. はっはっは\n",
      "25. はいわかりわかってねーだろうね終\n",
      "26. わってねーだろううまいですね親分は上手素敵役者みたい音はや馬鹿思\n",
      "27. えんだお目があちが思いつか無理です\n",
      "28. よそんな長いセリュー覚えられないよ無理無理無理無理よがねーなじゃ口移しで教えたから覚えろよ\n",
      "29. 口\n",
      "30. 移しで教えたから覚えろああああああそ\n",
      "31. りゃーよ\n",
      "32. くねーこっち向け口移しで教えちゃうからそうですか何かん真\n",
      "33. 似すんだ真似を真似かお願いします\n",
      "34. 多い旅人多い旅人\n",
      "35. はいはいじゃないよ多い旅人多い旅人多\n",
      "36. いっていい多い旅人さん多い旅人帰るなよ勝手にごめん下っ端に近いでも多い旅人ってんだよa旅人多い旅人こうして撮ったが知らずに撮ったかこうして撮ったが白身を撮ったか\n",
      "37. 知らずに撮ったから知らずに撮ったが明けの眼帳から蔵のみそがまでいい\n",
      "38. はいはいじゃねー明けの眼帳から蔵のみそかまで\n",
      "39. エルガニュー俺\n",
      "40. もやるよしま\n",
      "41. らないな俺は頭の縄張りだい俺は頭欲張り欲張りじゃない縄張りだよな縄張り縄張りだい縄張りだい知って撮ったな命はね知らずに撮ったな命は助けてあるそのかより\n",
      "42. 聞\n",
      "43. いてるこの野郎知って撮ったならよじゃね知らずに撮ったならよじゃあ助けてるそのがいい知って撮ったなら命はね知らずに撮ったならよじゃあ助けてあるその代わり\n",
      "44. パードゥン何がパ\n",
      "45. ードゥンなんでそういうちょっと難しいことはないんだろうねなんだパードゥンってこの野郎知って撮ったな命はね知らずに撮ったならよじゃあ助けてあるその代わり\n",
      "46. 知って撮ったんならその代わり端折るなよみ\n",
      "47. んな言うんだよ知って撮った命はねー\n",
      "48. なぁ見\n",
      "49. ぐるみ区域speaking意味verbいいcoupetobow\n",
      "50. ど\n",
      "51. こへいい自分つぶす不同\n",
      "52. звучかなぁはっはっは笑って誤魔化すなよ見ぐるみ抜けて観そぼらしくて見苦しいお前だそれはば見ぐるみ抜いておいてゲーゲーb2bオーディン受け言\n",
      "53. えた言えてねーよ\n",
      "54. いやと抜かじゃあ最後の助けいやだ抜かじゃあ最後っぺー最後ぺじゃねー最後の助け細工の際県で細工の助け伊達にはささねーんじゃすんダンバロのああああああラムンとだうながらにを見えます\n",
      "55. 俺よずドア85\n",
      "56. 点0点だよ\n",
      "57. どこまで自己評価が多いんだお前ばかりついたぞお前鈴が売りここが鈴が無理そうだ真っ暗じゃないですかだから長知持って来いって言ったんです\n",
      "58. よついて来い黙ってそうですか\n",
      "59. 怖\n",
      "60. いですねよ帰\n",
      "61. りません親\n",
      "62. 指が出たらどうする俺たちがやんだよ手つないでやめるんや\n",
      "63. めろ怖いから手つないでやめる\n",
      "64. 怖いからってやめろ男同士で手がつなげるやめろよ怖いからやめろ男\n",
      "65. 気持ち悪いやめる手をつけてをやめる手をつけやめる\n",
      "66. 気持ちはてよああああもういいよ繋いである指\n",
      "67. を互い違いにするなぁ腕を絡めるなバカやぶな隠れかついて来いってらっしゃいあそつかお前も来いあんま超えろなぁ得意じゃないんだな\n",
      "68. ぁかいいなぁやぶなかとかかゆい\n",
      "69. 草がイライラすもうやっいや\n",
      "70. ー草\n",
      "71. がこんなに後ろでドスを振り回すなお前危ない危ないから\n",
      "72. 鼻の先に小枝が\n",
      "73. うる\n",
      "74. さいなお前は前回れ前お前そこで目立っちゃしょうがない狂った結末ちょっとしゃがみを前立ってたダメクルッと決まってしゃべるんじゃねえクルッと決まる子ねしゃべってきつまっくれないんです\n",
      "75. よなんでまくれねえよ今日ふんどし締めてねーい\n",
      "76. つも締めるこんなやるしゃがめと分かりましたようるさい人だね本当にクルッと決まってくれしゃがみは一緒かって言っていっああああああうるせどう\n",
      "77. したタケノコが生えてたタ\n",
      "78. ケノコが今チュッメリゴン親分ちょっと助けて助けて手稼いこのやるどこまでセイガイだったりしのフロービーだったっはっはっはっは抜けました抜けたが見てがタケノコがほら根元からどういう悪力してんだお前すごいのよお前来たぞかもがねかもが来た車も車もじゃねかもが見ろあーわーすごいあら相撲取りみてなこんなでかいあー強そうさあやぶんじゃあどうぞおめーくんだよおめーが行くんだよよ覚えてないもの無理いいから行けよおっしゃ危ないな何をしてんブーバー出\n",
      "79. てなんか出てきたな呼ぶからなんだ\n",
      "80. おめーなんだおやつなんだおにゃん動いクニャーを蹴るめーよ落ち着けお前が落ち着けよだ\n",
      "81. から誰だってこのやるおめーなんだ見ればカンデル決して怪しいものではない十分怪しいよなんだおめーなんだ上で行くどこにある多い旅人多い旅人多い旅人なんだよそれからなんつんだおめーが言うんだよほらあかしは欲張りで身ぐじゅうみじゅうしゅびずばーだこの野郎いやずねかしは在庫ペランだがねあるはじめましてよかったら落ちかずに取れたてのたけのこいらねーさあでは新米のお祝いがしのを脱がすとてめーの首玉しこ抜くぞーが身ぐるみぐるから勘弁してくださいなぁあ\n"
     ]
    }
   ],
   "source": [
    "# join sentences in the format of\n",
    "# 1. sentence1\n",
    "# 2. sentence2\n",
    "# ...\n",
    "input_text = \"\\n\".join([f\"{i+1}. {sentence}\" for i, sentence in enumerate(sentences)])\n",
    "print(input_text)\n",
    "JLPT_LEVEL = \"N4\""
   ]
  },
  {
   "cell_type": "code",
   "execution_count": 47,
   "metadata": {},
   "outputs": [],
   "source": [
    "completion = client.chat.completions.create(\n",
    "  model=\"gpt-4\",\n",
    "  messages=[\n",
    "    {\"role\": \"system\", \"content\": \"\"\"\n",
    "    日本の落語の一節と日本語能力試験（JLPT）のレベルが与えられます。\\n\n",
    "    その節を、一文ずつ、指定されたJLPTレベルに適した語彙や文法を使って変更してください。\\n\n",
    "    文の数は変更しないでください。\\n\n",
    "     \"\"\"},\n",
    "    {\"role\": \"user\", \"content\": f\"\"\"\n",
    "    JLPTレベル: {JLPT_LEVEL}\\n\n",
    "     落語の節:\\n\n",
    "     {input_text}\n",
    "     \"\"\"}\n",
    "  ]\n",
    ")\n"
   ]
  },
  {
   "cell_type": "code",
   "execution_count": 48,
   "metadata": {},
   "outputs": [
    {
     "data": {
      "text/plain": [
       "ChatCompletionMessage(content='JLPTレベル: N4\\n\\n落語の節を簡易化:\\n\\n1. 綺麗に練習した白松があります。\\n2. 私、春風という者なんですが、嘘つきは盗人になると言いますね。\\n3. でも、ちょっとバカな盗人の方が魅力的だと思います。\\n4. いいえ、いいえ、こっちは仲間です。足元が悪いなら、早く直して、良い道に戻れば？泥棒をやめるか、足元を直すか、どうしますか？\\n5. これからは悪行を再開しようと思います。\\n6. だからこれからも、私の言葉を信じてください。私はあなたを導きますので、良く見て覚えてくださいね。\\n7. 勉強させていただきます。\\n8. 試行錯誤して、筆と紙を持って、顔に髭を描くのが盗人の最も必要な準備です。\\n9. そう、髭を描くんです。\\n10. それなら最初から教えてください。私はそれほどバカではないはずです。\\n11. はい、確かに、あなたはバカですね。でも、この髭は魅力的ですね。ああ、なるほど、これは髭ですね。私は理解しました。\\n12. ねえ、それはどうしたの？\\n13. シンプルな髭でもいいんですよ。クラーク博士の顔を真似てみてください。どちらでもいいと思いますが、盗人のいい格好は真っ黒だと言います。\\n14. うーん、どうしますか？逃げるか泥棒をやめるか？\\n15. これはどう使いますか？教えてください、親分。剣はどう抜くのですか？\\n16. オブラートはありますか？\\n17. あれば飲むのがこの剣です。飲むとは、懐にしまうことを意味します。\\n18. じゃあ、さっさと行きましょう。夜道が危険なので、我々泥棒が行かなければなりません。\\n19. 我々はどこに行くのですか？鈴川に行くのですか？\\n20. ええ、そこは危険な場所ですね。\\n21. そうですね、その場所は暗くて、怖い声がする。\\n22. やぶの中に隠れて、旅人を観察します。旅人が来たら、すぐに出ていかないで、わざと遅らせてから声をかけます。覚えておいてください。\\n23. 旅人はたくさんいます。彼らが私たちの縄張りを知って渡るかどうかで、我々の対応が変わります。知って渡ったなら、命は無い。知らずに渡ったなら、命は助けてやります。ただし、その代わりに財布を取らせてもらいます。\\n24. はっはっは。\\n25. 理解した、理解していないだろうけどね。\\n26. 私が真似するのは無理です、親分は上手すぎる。役者のように。\\n27. そんな長い台詞は覚えられないよ、無理だよ。\\n28. 無理だなんて言わないで、私が教えたから覚えてください。\\n29. 口で教えたから覚えてください。\\n30. 口で教えたから覚えてください。\\n31. 真似しなさい。\\n32. 真似をする、真似を。\\n33. それを真似してください。\\n34. たくさんの旅人がいます。\\n35. ほら、たくさんの旅人が来ています。\\n36. 旅人がたくさん来ています。\\n37. 旅人が明け方から宵まで来ます。\\n38. 旅人が朝から夜まで来ます。\\n39. これから私もやるよ。\\n40. ここから私がやります。\\n41. 私の場所は広いです。\\n42. 聞いていますか？\\n43. それは私が知っています。知って渡ったら命はない。知らずに渡ったら命は助けます。その代わりにー\\n44. 何がパードンなんて言ってるんだ。\\n45. 何がパードンなんて言ってるんだろうね。それじゃあ助けてあげるその代わりにー\\n46. 知って渡ったらその代わりにー\\n47. 知って渡ったら命はない。\\n48. という意味です。\\n49. 知らずに渡ったら命は助けてあげます。その代わりにー\\n50. どこまでー\\n51. どこへ行くのかー\\n52. 知らずに渡ったら命は助けてあげます。その代わりにー\\n53. 言わないでください。\\n54. 助けてあげるしかない。\\n55. 俺にもやらせてー\\n56. 私もやるからー\\n57. 私はどこまで自己評価が高いのでしょうか。\\n58. だから長い棒を持ってきてと言ったんですよ。\\n59. それは怖いですね。\\n60. 帰りましょう。\\n61. あなたが出たらどうしますか？\\n62. 怖いから手を握ってください。\\n63. 怖いから手をつないでください。\\n64. 怖いから手をつないでください。\\n65. そのふざけた行動を止めてください。\\n66. 手を握ってあげましょう。\\n67. 手を握ってあげましょう。\\n68. 草がかゆいですね。\\n69. 草がイライラする。\\n70. この草がー\\n71. この草がー\\n72. 鼻に小枝が刺さった。\\n73. うるさいですね。\\n74. 何をしてるんですか？\\n75. 何をしてるんですか？\\n76. 答えてください。\\n77. ワカメが生えています。\\n78. ワカメが生えています。\\n79. 助けて、助けてください。\\n80. 助けて、助けてください。\\n81. 助けて、助けてください。\\n', role='assistant', function_call=None, tool_calls=None)"
      ]
     },
     "execution_count": 48,
     "metadata": {},
     "output_type": "execute_result"
    }
   ],
   "source": [
    "completion.choices[0].message"
   ]
  },
  {
   "cell_type": "code",
   "execution_count": 49,
   "metadata": {},
   "outputs": [
    {
     "name": "stdout",
     "output_type": "stream",
     "text": [
      "JLPTレベル: N4\n",
      "\n",
      "落語の節を簡易化:\n",
      "\n",
      "1. 綺麗に練習した白松があります。\n",
      "2. 私、春風という者なんですが、嘘つきは盗人になると言いますね。\n",
      "3. でも、ちょっとバカな盗人の方が魅力的だと思います。\n",
      "4. いいえ、いいえ、こっちは仲間です。足元が悪いなら、早く直して、良い道に戻れば？泥棒をやめるか、足元を直すか、どうしますか？\n",
      "5. これからは悪行を再開しようと思います。\n",
      "6. だからこれからも、私の言葉を信じてください。私はあなたを導きますので、良く見て覚えてくださいね。\n",
      "7. 勉強させていただきます。\n",
      "8. 試行錯誤して、筆と紙を持って、顔に髭を描くのが盗人の最も必要な準備です。\n",
      "9. そう、髭を描くんです。\n",
      "10. それなら最初から教えてください。私はそれほどバカではないはずです。\n",
      "11. はい、確かに、あなたはバカですね。でも、この髭は魅力的ですね。ああ、なるほど、これは髭ですね。私は理解しました。\n",
      "12. ねえ、それはどうしたの？\n",
      "13. シンプルな髭でもいいんですよ。クラーク博士の顔を真似てみてください。どちらでもいいと思いますが、盗人のいい格好は真っ黒だと言います。\n",
      "14. うーん、どうしますか？逃げるか泥棒をやめるか？\n",
      "15. これはどう使いますか？教えてください、親分。剣はどう抜くのですか？\n",
      "16. オブラートはありますか？\n",
      "17. あれば飲むのがこの剣です。飲むとは、懐にしまうことを意味します。\n",
      "18. じゃあ、さっさと行きましょう。夜道が危険なので、我々泥棒が行かなければなりません。\n",
      "19. 我々はどこに行くのですか？鈴川に行くのですか？\n",
      "20. ええ、そこは危険な場所ですね。\n",
      "21. そうですね、その場所は暗くて、怖い声がする。\n",
      "22. やぶの中に隠れて、旅人を観察します。旅人が来たら、すぐに出ていかないで、わざと遅らせてから声をかけます。覚えておいてください。\n",
      "23. 旅人はたくさんいます。彼らが私たちの縄張りを知って渡るかどうかで、我々の対応が変わります。知って渡ったなら、命は無い。知らずに渡ったなら、命は助けてやります。ただし、その代わりに財布を取らせてもらいます。\n",
      "24. はっはっは。\n",
      "25. 理解した、理解していないだろうけどね。\n",
      "26. 私が真似するのは無理です、親分は上手すぎる。役者のように。\n",
      "27. そんな長い台詞は覚えられないよ、無理だよ。\n",
      "28. 無理だなんて言わないで、私が教えたから覚えてください。\n",
      "29. 口で教えたから覚えてください。\n",
      "30. 口で教えたから覚えてください。\n",
      "31. 真似しなさい。\n",
      "32. 真似をする、真似を。\n",
      "33. それを真似してください。\n",
      "34. たくさんの旅人がいます。\n",
      "35. ほら、たくさんの旅人が来ています。\n",
      "36. 旅人がたくさん来ています。\n",
      "37. 旅人が明け方から宵まで来ます。\n",
      "38. 旅人が朝から夜まで来ます。\n",
      "39. これから私もやるよ。\n",
      "40. ここから私がやります。\n",
      "41. 私の場所は広いです。\n",
      "42. 聞いていますか？\n",
      "43. それは私が知っています。知って渡ったら命はない。知らずに渡ったら命は助けます。その代わりにー\n",
      "44. 何がパードンなんて言ってるんだ。\n",
      "45. 何がパードンなんて言ってるんだろうね。それじゃあ助けてあげるその代わりにー\n",
      "46. 知って渡ったらその代わりにー\n",
      "47. 知って渡ったら命はない。\n",
      "48. という意味です。\n",
      "49. 知らずに渡ったら命は助けてあげます。その代わりにー\n",
      "50. どこまでー\n",
      "51. どこへ行くのかー\n",
      "52. 知らずに渡ったら命は助けてあげます。その代わりにー\n",
      "53. 言わないでください。\n",
      "54. 助けてあげるしかない。\n",
      "55. 俺にもやらせてー\n",
      "56. 私もやるからー\n",
      "57. 私はどこまで自己評価が高いのでしょうか。\n",
      "58. だから長い棒を持ってきてと言ったんですよ。\n",
      "59. それは怖いですね。\n",
      "60. 帰りましょう。\n",
      "61. あなたが出たらどうしますか？\n",
      "62. 怖いから手を握ってください。\n",
      "63. 怖いから手をつないでください。\n",
      "64. 怖いから手をつないでください。\n",
      "65. そのふざけた行動を止めてください。\n",
      "66. 手を握ってあげましょう。\n",
      "67. 手を握ってあげましょう。\n",
      "68. 草がかゆいですね。\n",
      "69. 草がイライラする。\n",
      "70. この草がー\n",
      "71. この草がー\n",
      "72. 鼻に小枝が刺さった。\n",
      "73. うるさいですね。\n",
      "74. 何をしてるんですか？\n",
      "75. 何をしてるんですか？\n",
      "76. 答えてください。\n",
      "77. ワカメが生えています。\n",
      "78. ワカメが生えています。\n",
      "79. 助けて、助けてください。\n",
      "80. 助けて、助けてください。\n",
      "81. 助けて、助けてください。\n",
      "\n"
     ]
    }
   ],
   "source": [
    "completion_output = completion.choices[0].message.content\n",
    "print(completion_output)"
   ]
  },
  {
   "cell_type": "code",
   "execution_count": 50,
   "metadata": {},
   "outputs": [
    {
     "name": "stdout",
     "output_type": "stream",
     "text": [
      "81  sentences found from  81  sentences\n",
      "['綺麗に練習した白松があります。', '私、春風という者なんですが、嘘つきは盗人になると言いますね。', 'でも、ちょっとバカな盗人の方が魅力的だと思います。', 'いいえ、いいえ、こっちは仲間です。足元が悪いなら、早く直して、良い道に戻れば？泥棒をやめるか、足元を直すか、どうしますか？', 'これからは悪行を再開しようと思います。', 'だからこれからも、私の言葉を信じてください。私はあなたを導きますので、良く見て覚えてくださいね。', '勉強させていただきます。', '試行錯誤して、筆と紙を持って、顔に髭を描くのが盗人の最も必要な準備です。', 'そう、髭を描くんです。', 'それなら最初から教えてください。私はそれほどバカではないはずです。', 'はい、確かに、あなたはバカですね。でも、この髭は魅力的ですね。ああ、なるほど、これは髭ですね。私は理解しました。', 'ねえ、それはどうしたの？', 'シンプルな髭でもいいんですよ。クラーク博士の顔を真似てみてください。どちらでもいいと思いますが、盗人のいい格好は真っ黒だと言います。', 'うーん、どうしますか？逃げるか泥棒をやめるか？', 'これはどう使いますか？教えてください、親分。剣はどう抜くのですか？', 'オブラートはありますか？', 'あれば飲むのがこの剣です。飲むとは、懐にしまうことを意味します。', 'じゃあ、さっさと行きましょう。夜道が危険なので、我々泥棒が行かなければなりません。', '我々はどこに行くのですか？鈴川に行くのですか？', 'ええ、そこは危険な場所ですね。', 'そうですね、その場所は暗くて、怖い声がする。', 'やぶの中に隠れて、旅人を観察します。旅人が来たら、すぐに出ていかないで、わざと遅らせてから声をかけます。覚えておいてください。', '旅人はたくさんいます。彼らが私たちの縄張りを知って渡るかどうかで、我々の対応が変わります。知って渡ったなら、命は無い。知らずに渡ったなら、命は助けてやります。ただし、その代わりに財布を取らせてもらいます。', 'はっはっは。', '理解した、理解していないだろうけどね。', '私が真似するのは無理です、親分は上手すぎる。役者のように。', 'そんな長い台詞は覚えられないよ、無理だよ。', '無理だなんて言わないで、私が教えたから覚えてください。', '口で教えたから覚えてください。', '口で教えたから覚えてください。', '真似しなさい。', '真似をする、真似を。', 'それを真似してください。', 'たくさんの旅人がいます。', 'ほら、たくさんの旅人が来ています。', '旅人がたくさん来ています。', '旅人が明け方から宵まで来ます。', '旅人が朝から夜まで来ます。', 'これから私もやるよ。', 'ここから私がやります。', '私の場所は広いです。', '聞いていますか？', 'それは私が知っています。知って渡ったら命はない。知らずに渡ったら命は助けます。その代わりにー', '何がパードンなんて言ってるんだ。', '何がパードンなんて言ってるんだろうね。それじゃあ助けてあげるその代わりにー', '知って渡ったらその代わりにー', '知って渡ったら命はない。', 'という意味です。', '知らずに渡ったら命は助けてあげます。その代わりにー', 'どこまでー', 'どこへ行くのかー', '知らずに渡ったら命は助けてあげます。その代わりにー', '言わないでください。', '助けてあげるしかない。', '俺にもやらせてー', '私もやるからー', '私はどこまで自己評価が高いのでしょうか。', 'だから長い棒を持ってきてと言ったんですよ。', 'それは怖いですね。', '帰りましょう。', 'あなたが出たらどうしますか？', '怖いから手を握ってください。', '怖いから手をつないでください。', '怖いから手をつないでください。', 'そのふざけた行動を止めてください。', '手を握ってあげましょう。', '手を握ってあげましょう。', '草がかゆいですね。', '草がイライラする。', 'この草がー', 'この草がー', '鼻に小枝が刺さった。', 'うるさいですね。', '何をしてるんですか？', '何をしてるんですか？', '答えてください。', 'ワカメが生えています。', 'ワカメが生えています。', '助けて、助けてください。', '助けて、助けてください。', '助けて、助けてください。']\n"
     ]
    }
   ],
   "source": [
    "# save the easified text using regex\n",
    "# \"number\". \"sentence\" -> \"sentence\"\n",
    "import re\n",
    "\n",
    "easified_sentences = re.findall(r\"\\d+\\. (.+)\", completion_output)\n",
    "print(len(easified_sentences), \" sentences found from \", len(sentences), \" sentences\")\n",
    "print(easified_sentences)"
   ]
  },
  {
   "cell_type": "markdown",
   "metadata": {},
   "source": [
    "## Text to speech\n",
    "Objectives\n",
    "1. Synchronise with timestamps\n",
    "2. Use same voice"
   ]
  },
  {
   "cell_type": "code",
   "execution_count": 51,
   "metadata": {},
   "outputs": [],
   "source": [
    "speech_file_path = Path(data_path) / \"speech_v1.mp3\""
   ]
  },
  {
   "cell_type": "code",
   "execution_count": 52,
   "metadata": {},
   "outputs": [
    {
     "data": {
      "text/plain": [
       "openai._legacy_response.HttpxBinaryResponseContent"
      ]
     },
     "execution_count": 52,
     "metadata": {},
     "output_type": "execute_result"
    }
   ],
   "source": [
    "response = client.audio.speech.create(\n",
    "  model=\"tts-1\",\n",
    "  voice=\"onyx\",\n",
    "  input=f\"{easified_sentences[0]}\"\n",
    ")\n",
    "type(response)"
   ]
  },
  {
   "cell_type": "code",
   "execution_count": 113,
   "metadata": {},
   "outputs": [
    {
     "name": "stderr",
     "output_type": "stream",
     "text": [
      "/var/folders/sy/4mvdh7yx2rn37237j7qbqrdr0000gn/T/ipykernel_8522/2952188555.py:1: DeprecationWarning: Due to a bug, this method doesn't actually stream the response content, `.with_streaming_response.method()` should be used instead\n",
      "  response.stream_to_file(speech_file_path)\n"
     ]
    }
   ],
   "source": [
    "response.stream_to_file(speech_file_path)"
   ]
  },
  {
   "cell_type": "code",
   "execution_count": null,
   "metadata": {},
   "outputs": [],
   "source": []
  }
 ],
 "metadata": {
  "kernelspec": {
   "display_name": "rakugo",
   "language": "python",
   "name": "python3"
  },
  "language_info": {
   "codemirror_mode": {
    "name": "ipython",
    "version": 3
   },
   "file_extension": ".py",
   "mimetype": "text/x-python",
   "name": "python",
   "nbconvert_exporter": "python",
   "pygments_lexer": "ipython3",
   "version": "3.10.6"
  }
 },
 "nbformat": 4,
 "nbformat_minor": 2
}
