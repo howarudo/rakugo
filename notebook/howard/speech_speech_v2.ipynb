{
 "cells": [
  {
   "cell_type": "markdown",
   "metadata": {},
   "source": [
    "# Speech to Speech Flow"
   ]
  },
  {
   "cell_type": "markdown",
   "metadata": {},
   "source": [
    "## Speech to Text\n",
    "Objectives:\n",
    "1. Transcribe text　✅\n",
    "2. Preserve timestamp　✅"
   ]
  },
  {
   "cell_type": "code",
   "execution_count": 1,
   "metadata": {},
   "outputs": [],
   "source": [
    "from pathlib import Path\n",
    "import pytube as pt\n",
    "from openai import OpenAI\n",
    "import os\n",
    "from dotenv import load_dotenv\n",
    "\n",
    "dotenv_path = Path(\"__file__\").resolve().parents[1].parents[0] / '.local.env'\n",
    "load_dotenv(dotenv_path)\n",
    "\n",
    "OpenAI.api_key = os.getenv(\"OPENAI_API_KEY\")\n",
    "data_path = Path(\"__file__\").resolve().parents[1].parents[0] / \"local_data\""
   ]
  },
  {
   "cell_type": "code",
   "execution_count": 2,
   "metadata": {},
   "outputs": [],
   "source": [
    "user_path = os.path.join(data_path, \"user_input\")\n",
    "VIDEO_FILE_NAME = \"rakugo_v1.mp4\"\n",
    "VIDEO_FILE_PATH = os.path.join(user_path, VIDEO_FILE_NAME)"
   ]
  },
  {
   "cell_type": "code",
   "execution_count": 3,
   "metadata": {},
   "outputs": [],
   "source": [
    "AUDIO_FILE_PATH = os.path.join(user_path, \"rakugo_v1.mp3\")"
   ]
  },
  {
   "cell_type": "code",
   "execution_count": 4,
   "metadata": {},
   "outputs": [
    {
     "name": "stdout",
     "output_type": "stream",
     "text": [
      "MoviePy - Writing audio in /Users/howardtangkulung/code/personal_projects/rakugo/local_data/user_input/rakugo_v1.mp3\n"
     ]
    },
    {
     "name": "stderr",
     "output_type": "stream",
     "text": [
      "                                                                        "
     ]
    },
    {
     "name": "stdout",
     "output_type": "stream",
     "text": [
      "MoviePy - Done.\n"
     ]
    },
    {
     "name": "stderr",
     "output_type": "stream",
     "text": [
      "\r"
     ]
    }
   ],
   "source": [
    "import sys\n",
    "from moviepy.editor import *\n",
    "\n",
    "video = VideoFileClip(VIDEO_FILE_PATH) # 2.\n",
    "audio = video.audio # 3.\n",
    "audio.write_audiofile(AUDIO_FILE_PATH) # 4."
   ]
  },
  {
   "cell_type": "markdown",
   "metadata": {},
   "source": []
  },
  {
   "cell_type": "code",
   "execution_count": 5,
   "metadata": {},
   "outputs": [
    {
     "data": {
      "text/plain": [
       "<_io.BufferedRandom name='/Users/howardtangkulung/code/personal_projects/rakugo/local_data/rakugo_v1_shortened.mp3'>"
      ]
     },
     "execution_count": 5,
     "metadata": {},
     "output_type": "execute_result"
    }
   ],
   "source": [
    "# take first 1 minutes of the audio\n",
    "from pydub import AudioSegment\n",
    "audio = AudioSegment.from_file(AUDIO_FILE_PATH)\n",
    "duration = 60 * 1000\n",
    "\n",
    "audio = audio[:duration]\n",
    "shortened_audio_file_path = os.path.join(data_path, \"rakugo_v1_shortened.mp3\")\n",
    "audio.export(shortened_audio_file_path, format=\"mp3\")"
   ]
  },
  {
   "cell_type": "code",
   "execution_count": 6,
   "metadata": {},
   "outputs": [
    {
     "name": "stdout",
     "output_type": "stream",
     "text": [
      "Moviepy - Building video /Users/howardtangkulung/code/personal_projects/rakugo/local_data/rakugo_v1_shortened.mp4.\n",
      "MoviePy - Writing audio in rakugo_v1_shortenedTEMP_MPY_wvf_snd.mp3\n"
     ]
    },
    {
     "name": "stderr",
     "output_type": "stream",
     "text": [
      "                                                                      \r"
     ]
    },
    {
     "name": "stdout",
     "output_type": "stream",
     "text": [
      "MoviePy - Done.\n",
      "Moviepy - Writing video /Users/howardtangkulung/code/personal_projects/rakugo/local_data/rakugo_v1_shortened.mp4\n",
      "\n"
     ]
    },
    {
     "name": "stderr",
     "output_type": "stream",
     "text": [
      "                                                                 \r"
     ]
    },
    {
     "name": "stdout",
     "output_type": "stream",
     "text": [
      "Moviepy - Done !\n",
      "Moviepy - video ready /Users/howardtangkulung/code/personal_projects/rakugo/local_data/rakugo_v1_shortened.mp4\n"
     ]
    }
   ],
   "source": [
    "# trim video as well\n",
    "from moviepy.editor import VideoFileClip\n",
    "video = VideoFileClip(VIDEO_FILE_PATH)\n",
    "video = video.subclip(0, int(duration/1000))\n",
    "shortened_video_file_path = os.path.join(data_path, \"rakugo_v1_shortened.mp4\")\n",
    "video.write_videofile(shortened_video_file_path)"
   ]
  },
  {
   "cell_type": "code",
   "execution_count": 7,
   "metadata": {},
   "outputs": [],
   "source": [
    "client = OpenAI()\n",
    "\n",
    "shortened_audio_file_path = os.path.join(data_path, \"rakugo_v1_shortened.mp3\")\n",
    "audio_file= open(shortened_audio_file_path, \"rb\")\n",
    "\n",
    "transcript = client.audio.transcriptions.create(\n",
    "  file=audio_file,\n",
    "  model=\"whisper-1\",\n",
    "  response_format=\"verbose_json\",\n",
    "  timestamp_granularities=[\"segment\"]\n",
    ")"
   ]
  },
  {
   "cell_type": "code",
   "execution_count": 8,
   "metadata": {},
   "outputs": [
    {
     "name": "stdout",
     "output_type": "stream",
     "text": [
      "7 segments\n",
      "[{'id': 0, 'seek': 0, 'start': 0.0, 'end': 15.800000190734863, 'text': 'me', 'tokens': [50364, 1398, 51154], 'temperature': 0.20000000298023224, 'avg_logprob': -0.6217933297157288, 'compression_ratio': 1.0097087621688843, 'no_speech_prob': 0.2337973415851593}, {'id': 1, 'seek': 0, 'start': 16.0, 'end': 22.920000076293945, 'text': 'a 練習したような小刻みの白書がございます 旬風て市の助と申しましてまぁ', 'tokens': [51164, 64, 220, 47027, 34025, 8533, 17010, 3203, 7322, 45500, 11362, 2972, 13558, 29801, 5142, 43808, 220, 4479, 105, 22713, 2996, 27261, 2972, 37618, 3193, 3526, 111, 45349, 8822, 37566, 51510], 'temperature': 0.20000000298023224, 'avg_logprob': -0.6217933297157288, 'compression_ratio': 1.0097087621688843, 'no_speech_prob': 0.2337973415851593}]\n"
     ]
    }
   ],
   "source": [
    "print(len(transcript.segments), \"segments\")\n",
    "print(transcript.segments[:2])"
   ]
  },
  {
   "cell_type": "code",
   "execution_count": 9,
   "metadata": {},
   "outputs": [
    {
     "name": "stdout",
     "output_type": "stream",
     "text": [
      "{'text': '練習したような小刻みの白書がございます 旬風て市の助と申しましてまぁ', 'start': 16.0, 'end': 22.920000076293945}\n",
      "{'text': '嘘つきは泥棒の始まりなんと まあねほんと猫立ちの悪い嘘つくよりはちょいと間抜けな泥棒のほうが', 'start': 22.920000076293945, 'end': 30.8799991607666}\n",
      "{'text': 'かわいいがあるようでございますおしまいしまい こっち来いしまいはいおやぶん何かご用ですかよですかじゃないよね', 'start': 30.8799991607666, 'end': 38.08000183105469}\n",
      "{'text': 'おめのこと仲間がなぁなんて言ってか知ってんのかねあら見込みがねからさっさと足荒ら して敵に戻したらどうだってみんなのメイドのこと言ってんだよねどうするよ', 'start': 38.08000183105469, 'end': 46.119998931884766}\n",
      "{'text': '泥棒やめるか足洗うかなんて言ってんすか 自分でもまあ土地ばかり踏んでんなってのはよくわかってんですかね', 'start': 46.560001373291016, 'end': 53.31999969482422}\n"
     ]
    }
   ],
   "source": [
    "# remove alphanumeric characters with regex\n",
    "import re\n",
    "\n",
    "segments = []\n",
    "for segment in transcript.segments:\n",
    "    text = re.sub(r'[a-zA-Z0-9🎶]', '', segment[\"text\"]).strip()\n",
    "    start = segment[\"start\"]\n",
    "    end = segment[\"end\"]\n",
    "\n",
    "    if text and (end-start) > 2.5:\n",
    "        segments.append({\n",
    "            \"text\": text,\n",
    "            \"start\": start,\n",
    "            \"end\": end\n",
    "        })\n",
    "\n",
    "for i in range(len(segments[:5])):\n",
    "    print(segments[i])"
   ]
  },
  {
   "cell_type": "markdown",
   "metadata": {},
   "source": [
    "## Text to text\n",
    "Objectives\n",
    "1. Easify the text ✅\n",
    "2. Try to preserve the length of text ✅"
   ]
  },
  {
   "cell_type": "code",
   "execution_count": 10,
   "metadata": {},
   "outputs": [],
   "source": [
    "sentences = [segment[\"text\"] for segment in segments]"
   ]
  },
  {
   "cell_type": "code",
   "execution_count": 11,
   "metadata": {},
   "outputs": [
    {
     "name": "stdout",
     "output_type": "stream",
     "text": [
      "1. 練習したような小刻みの白書がございます 旬風って一ノ助と申しましても\n",
      "2. 嘘つきは泥棒の始まりなんと まあねほんと猫立ちの悪い嘘つくよりはちょいと間抜けな泥棒のほうが\n",
      "3. かわいいがあるようでございますおしまいしまい こっち来いしまいはい親分なんかご用ですかよですかじゃないよね\n",
      "4. おめのこと仲間がなぁなんて言ってるか知ってるのかねあら見込みがねからさっさと足 荒らして敵に戻したらどうだってみんな濡れるとのこと言ってんだよねどうするよ\n",
      "5. 泥棒やめるか足洗うかなんて言ってんすか 自分でもまあ土地ばかり踏んでんなってのはよくわかってるんですかね\n",
      "6. これから真心に立ち帰った悪事に励みますから 今までより置いちゃってくださいこの通りで言ってること\n"
     ]
    }
   ],
   "source": [
    "# join segements in the format of\n",
    "# 1. segment1\n",
    "# 2. segment2\n",
    "# ...\n",
    "input_text = \"\\n\".join([f\"{i+1}. {sentence}\" for i, sentence in enumerate(sentences)])\n",
    "print(input_text)\n",
    "JLPT_LEVEL = \"N4\""
   ]
  },
  {
   "cell_type": "code",
   "execution_count": 12,
   "metadata": {},
   "outputs": [],
   "source": [
    "completion = client.chat.completions.create(\n",
    "  model=\"gpt-4\",\n",
    "  messages=[\n",
    "    {\"role\": \"system\", \"content\": \"\"\"\n",
    "    日本の落語の一節と日本語能力試験（JLPT）のレベルが与えられます。\\n\n",
    "    その節を、指定されたJLPTレベルに適した語彙を使って簡単にしてください。\\n\n",
    "    語彙のみを変更してください。文の構造や意味は変更しないでください。\\n\n",
    "     \"\"\"},\n",
    "    {\"role\": \"user\", \"content\": f\"\"\"\n",
    "    JLPTレベル: {JLPT_LEVEL}\\n\n",
    "     落語の節:\\n\n",
    "     {input_text}\n",
    "     \"\"\"}\n",
    "  ]\n",
    ")\n"
   ]
  },
  {
   "cell_type": "code",
   "execution_count": 13,
   "metadata": {},
   "outputs": [
    {
     "data": {
      "text/plain": [
       "ChatCompletionMessage(content='\\n    JLPTレベル: N4\\n\\n     落語の節:\\n\\n    1. 練習したような小さなメモがあります。旬風っていう人と言っても\\n2. 嘘つきは泥棒の始まりだよね。まあ、ひどい嘘をつくよりは、ちょっと間抜けな泥棒のほうが\\n3. 可愛いさがあるんだよね。終わり、終わり、こっちに来て。終わり、はい、お頭さん、何か用がありますか。ありますかじゃないよね\\n4. 自分のこと、友達がなぁなんて言ってるか知ってるのかね。あっ、見込みがあるから早く逃げて敵に戻したらどうだってみんなが言ってるんだよね。どうするよ\\n5. 泥棒をやめるか、足を洗うかなんて言ってんのか。自分でもたくさん歩いてるってわかってるのかな\\n6. これから本心で悪行に取り組みますから、これまで以上に見守ってください。これをよく読んで、私が言ってることを理解してください', role='assistant', function_call=None, tool_calls=None)"
      ]
     },
     "execution_count": 13,
     "metadata": {},
     "output_type": "execute_result"
    }
   ],
   "source": [
    "completion.choices[0].message"
   ]
  },
  {
   "cell_type": "code",
   "execution_count": 14,
   "metadata": {},
   "outputs": [
    {
     "name": "stdout",
     "output_type": "stream",
     "text": [
      "\n",
      "    JLPTレベル: N4\n",
      "\n",
      "     落語の節:\n",
      "\n",
      "    1. 練習したような小さなメモがあります。旬風っていう人と言っても\n",
      "2. 嘘つきは泥棒の始まりだよね。まあ、ひどい嘘をつくよりは、ちょっと間抜けな泥棒のほうが\n",
      "3. 可愛いさがあるんだよね。終わり、終わり、こっちに来て。終わり、はい、お頭さん、何か用がありますか。ありますかじゃないよね\n",
      "4. 自分のこと、友達がなぁなんて言ってるか知ってるのかね。あっ、見込みがあるから早く逃げて敵に戻したらどうだってみんなが言ってるんだよね。どうするよ\n",
      "5. 泥棒をやめるか、足を洗うかなんて言ってんのか。自分でもたくさん歩いてるってわかってるのかな\n",
      "6. これから本心で悪行に取り組みますから、これまで以上に見守ってください。これをよく読んで、私が言ってることを理解してください\n"
     ]
    }
   ],
   "source": [
    "completion_output = completion.choices[0].message.content\n",
    "print(completion_output)"
   ]
  },
  {
   "cell_type": "code",
   "execution_count": 15,
   "metadata": {},
   "outputs": [
    {
     "name": "stdout",
     "output_type": "stream",
     "text": [
      "6  sentences found from  6  sentences\n",
      "['練習したような小さなメモがあります。旬風っていう人と言っても', '嘘つきは泥棒の始まりだよね。まあ、ひどい嘘をつくよりは、ちょっと間抜けな泥棒のほうが', '可愛いさがあるんだよね。終わり、終わり、こっちに来て。終わり、はい、お頭さん、何か用がありますか。ありますかじゃないよね', '自分のこと、友達がなぁなんて言ってるか知ってるのかね。あっ、見込みがあるから早く逃げて敵に戻したらどうだってみんなが言ってるんだよね。どうするよ', '泥棒をやめるか、足を洗うかなんて言ってんのか。自分でもたくさん歩いてるってわかってるのかな', 'これから本心で悪行に取り組みますから、これまで以上に見守ってください。これをよく読んで、私が言ってることを理解してください']\n"
     ]
    }
   ],
   "source": [
    "# save the easified text using regex\n",
    "# \"number\". \"sentence\" -> \"sentence\"\n",
    "import re\n",
    "\n",
    "easified_sentences = re.findall(r\"\\d+\\. (.+)\", completion_output)\n",
    "print(len(easified_sentences), \" sentences found from \", len(segments), \" sentences\")\n",
    "print(easified_sentences)"
   ]
  },
  {
   "cell_type": "markdown",
   "metadata": {},
   "source": [
    "## Text to speech\n",
    "Objectives\n",
    "1. Synchronise with timestamps ✅\n",
    "2. Use same voice ✅"
   ]
  },
  {
   "cell_type": "code",
   "execution_count": 16,
   "metadata": {},
   "outputs": [],
   "source": [
    "ELEVENLABS_API_KEY = os.getenv(\"ELEVENLABS_API_KEY\")"
   ]
  },
  {
   "cell_type": "code",
   "execution_count": 17,
   "metadata": {},
   "outputs": [],
   "source": [
    "audio_file_paths = [str(shortened_audio_file_path)]"
   ]
  },
  {
   "cell_type": "code",
   "execution_count": 18,
   "metadata": {},
   "outputs": [],
   "source": [
    "from elevenlabs import clone, generate, play\n",
    "\n",
    "voice = clone(\n",
    "    api_key=ELEVENLABS_API_KEY,\n",
    "    name=\"rakugo_v1\",\n",
    "    files=audio_file_paths,\n",
    ")"
   ]
  },
  {
   "cell_type": "code",
   "execution_count": 19,
   "metadata": {},
   "outputs": [],
   "source": [
    "audios = []\n",
    "for sentence in easified_sentences:\n",
    "    audio = generate(\n",
    "        api_key=ELEVENLABS_API_KEY,\n",
    "        text=sentence,\n",
    "        voice=voice,\n",
    "        model=\"eleven_multilingual_v2\",\n",
    "        output_format=\"mp3_44100_128\"\n",
    "    )\n",
    "    audios.append(audio)"
   ]
  },
  {
   "cell_type": "code",
   "execution_count": 20,
   "metadata": {},
   "outputs": [],
   "source": [
    "# play(audios[0])"
   ]
  },
  {
   "cell_type": "code",
   "execution_count": 21,
   "metadata": {},
   "outputs": [],
   "source": [
    "temp_res_file_path = os.path.join(data_path, \"temp_results\")\n",
    "os.makedirs(temp_res_file_path, exist_ok=True)"
   ]
  },
  {
   "cell_type": "code",
   "execution_count": 22,
   "metadata": {},
   "outputs": [
    {
     "name": "stdout",
     "output_type": "stream",
     "text": [
      "audio file saved to /Users/howardtangkulung/code/personal_projects/rakugo/local_data/temp_results/rakugo_v1_0.mp3\n",
      "audio file saved to /Users/howardtangkulung/code/personal_projects/rakugo/local_data/temp_results/rakugo_v1_1.mp3\n",
      "audio file saved to /Users/howardtangkulung/code/personal_projects/rakugo/local_data/temp_results/rakugo_v1_2.mp3\n",
      "audio file saved to /Users/howardtangkulung/code/personal_projects/rakugo/local_data/temp_results/rakugo_v1_3.mp3\n",
      "audio file saved to /Users/howardtangkulung/code/personal_projects/rakugo/local_data/temp_results/rakugo_v1_4.mp3\n",
      "audio file saved to /Users/howardtangkulung/code/personal_projects/rakugo/local_data/temp_results/rakugo_v1_5.mp3\n"
     ]
    }
   ],
   "source": [
    "# save generated audio to mp3\n",
    "for i, audio in enumerate(audios):\n",
    "    audio_file_path = os.path.join(temp_res_file_path, f\"rakugo_v1_{i}.mp3\")\n",
    "    with open(audio_file_path, \"wb\") as f:\n",
    "        f.write(audio)\n",
    "    print(f\"audio file saved to {audio_file_path}\")"
   ]
  },
  {
   "cell_type": "code",
   "execution_count": 23,
   "metadata": {},
   "outputs": [
    {
     "name": "stdout",
     "output_type": "stream",
     "text": [
      "original audio duration 4.023 segment duration 6.879999160766602 speed 0.5847384434203533\n",
      "speeded audio with speed 1\n",
      "audio file saved\n",
      "original audio duration 6.296 segment duration 7.960000991821289 speed 0.7909546753158687\n",
      "speeded audio with speed 1\n",
      "audio file saved\n",
      "original audio duration 9.378 segment duration 7.19999885559082 speed 1.3025002070268323\n",
      "speeded audio with speed 1.25\n",
      "audio file saved\n",
      "original audio duration 10.162 segment duration 8.040000915527344 speed 1.2639302043330023\n",
      "speeded audio with speed 1.25\n",
      "audio file saved\n",
      "original audio duration 5.851 segment duration 6.8000030517578125 speed 0.8604407903151612\n",
      "speeded audio with speed 1\n",
      "audio file saved\n",
      "original audio duration 7.706 segment duration 8.680000305175781 speed 0.8877879872198857\n",
      "speeded audio with speed 1\n",
      "audio file saved\n"
     ]
    }
   ],
   "source": [
    "# speed up audio according to segments start and end\n",
    "\n",
    "from pydub import AudioSegment\n",
    "from pydub.effects import speedup\n",
    "\n",
    "for i, segment in enumerate(segments):\n",
    "    audio_file_path = os.path.join(temp_res_file_path, f\"rakugo_v1_{i}.mp3\")\n",
    "    audio = AudioSegment.from_file(audio_file_path, format=\"mp3\")\n",
    "    audio_dur = len(audio) / 1000\n",
    "    speed = audio_dur / (segment['end'] - segment['start'])\n",
    "    print(\"original audio duration\", audio_dur, \"segment duration\", segment['end'] - segment['start'], \"speed\", speed)\n",
    "    # round speed to nearest from 1, 1.25, 1.5\n",
    "    speed = round(speed*4) / 4\n",
    "    if speed <= 1:\n",
    "        speed = 1\n",
    "        speeded_audio = audio\n",
    "    else:\n",
    "        speeded_audio = speedup(audio, speed)\n",
    "    print(f\"speeded audio with speed {speed}\")\n",
    "    speeded_audio.export(os.path.join(temp_res_file_path, f\"rakugo_v1_{i}_speeded.mp3\"), format=\"mp3\")\n",
    "    print(f\"audio file saved\")"
   ]
  },
  {
   "cell_type": "code",
   "execution_count": 24,
   "metadata": {},
   "outputs": [
    {
     "name": "stdout",
     "output_type": "stream",
     "text": [
      "current_time 16079.999923706055 segment start 16.079999923706055 segment end 22.959999084472656\n",
      "current_time 22959.999084472656 segment start 22.959999084472656 segment end 30.920000076293945\n",
      "current_time 30920.000076293945 segment start 30.920000076293945 segment end 38.119998931884766\n",
      "current_time 38119.998931884766 segment start 38.119998931884766 segment end 46.15999984741211\n",
      "current_time 46599.998474121094 segment start 46.599998474121094 segment end 53.400001525878906\n",
      "current_time 53400.001525878906 segment start 53.400001525878906 segment end 62.08000183105469\n"
     ]
    },
    {
     "data": {
      "text/plain": [
       "<_io.BufferedRandom name='/Users/howardtangkulung/code/personal_projects/rakugo/local_data/temp_results/rakugo_v1_merged.mp3'>"
      ]
     },
     "execution_count": 24,
     "metadata": {},
     "output_type": "execute_result"
    }
   ],
   "source": [
    "# merge speeded audio according to segments start and end\n",
    "# use the first segment start time as the start time of the merged audio\n",
    "# fill first silence with original audio\n",
    "for i, segment in enumerate(segments):\n",
    "    audio_file_path = os.path.join(temp_res_file_path, f\"rakugo_v1_{i}_speeded.mp3\")\n",
    "    original_audio_file_path = os.path.join(data_path, \"rakugo_v1_shortened.mp3\")\n",
    "    original_audio = AudioSegment.from_file(original_audio_file_path, format=\"mp3\")\n",
    "    audio = AudioSegment.from_file(audio_file_path, format=\"mp3\")\n",
    "    current_time = segment['start'] * 1000\n",
    "    print(\"current_time\", current_time, \"segment start\", segment['start'], \"segment end\", segment['end'])\n",
    "    if i == 0:\n",
    "        fill_dur = current_time\n",
    "        fill = original_audio[:fill_dur]\n",
    "        merged_audio = fill + audio\n",
    "    else:\n",
    "        silence_dur = segment['start'] * 1000 - current_time\n",
    "        silence = AudioSegment.silent(duration=silence_dur)\n",
    "        merged_audio = merged_audio + silence + audio\n",
    "    current_time = len(merged_audio)\n",
    "\n",
    "merged_audio.export(os.path.join(temp_res_file_path, f\"rakugo_v1_merged.mp3\"), format=\"mp3\")"
   ]
  },
  {
   "cell_type": "code",
   "execution_count": 25,
   "metadata": {},
   "outputs": [
    {
     "name": "stdout",
     "output_type": "stream",
     "text": [
      "Moviepy - Building video /Users/howardtangkulung/code/personal_projects/rakugo/local_data/final_results/rakugo_v1_final.mp4.\n",
      "MoviePy - Writing audio in rakugo_v1_finalTEMP_MPY_wvf_snd.mp3\n"
     ]
    },
    {
     "name": "stderr",
     "output_type": "stream",
     "text": [
      "                                                                      \r"
     ]
    },
    {
     "name": "stdout",
     "output_type": "stream",
     "text": [
      "MoviePy - Done.\n",
      "Moviepy - Writing video /Users/howardtangkulung/code/personal_projects/rakugo/local_data/final_results/rakugo_v1_final.mp4\n",
      "\n"
     ]
    },
    {
     "name": "stderr",
     "output_type": "stream",
     "text": [
      "                                                                 \r"
     ]
    },
    {
     "name": "stdout",
     "output_type": "stream",
     "text": [
      "Moviepy - Done !\n",
      "Moviepy - video ready /Users/howardtangkulung/code/personal_projects/rakugo/local_data/final_results/rakugo_v1_final.mp4\n"
     ]
    }
   ],
   "source": [
    "import moviepy.editor as mp\n",
    "\n",
    "final_res_file_path = os.path.join(data_path, \"final_results\")\n",
    "\n",
    "audio = mp.AudioFileClip(os.path.join(temp_res_file_path, \"rakugo_v1_merged.mp3\"))\n",
    "video1 = mp.VideoFileClip(shortened_video_file_path)\n",
    "final = video1.set_audio(audio)\n",
    "\n",
    "final.write_videofile(os.path.join(final_res_file_path, \"rakugo_v1_final.mp4\"))"
   ]
  },
  {
   "cell_type": "code",
   "execution_count": 26,
   "metadata": {},
   "outputs": [],
   "source": [
    "import glob\n",
    "\n",
    "files = glob.glob(os.path.join(temp_res_file_path, \"*.mp3\"))\n",
    "for f in files:\n",
    "    os.remove(f)\n",
    "\n",
    "files = glob.glob(os.path.join(data_path, \"*.mp*\"))\n",
    "for f in files:\n",
    "    os.remove(f)"
   ]
  },
  {
   "cell_type": "code",
   "execution_count": null,
   "metadata": {},
   "outputs": [],
   "source": []
  }
 ],
 "metadata": {
  "kernelspec": {
   "display_name": "rakugo",
   "language": "python",
   "name": "python3"
  },
  "language_info": {
   "codemirror_mode": {
    "name": "ipython",
    "version": 3
   },
   "file_extension": ".py",
   "mimetype": "text/x-python",
   "name": "python",
   "nbconvert_exporter": "python",
   "pygments_lexer": "ipython3",
   "version": "3.10.6"
  }
 },
 "nbformat": 4,
 "nbformat_minor": 2
}
