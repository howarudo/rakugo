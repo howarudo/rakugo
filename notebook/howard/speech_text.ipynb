{
 "cells": [
  {
   "cell_type": "code",
   "execution_count": 13,
   "metadata": {},
   "outputs": [],
   "source": [
    "from pathlib import Path\n",
    "from openai import OpenAI\n",
    "import os\n",
    "from dotenv import load_dotenv\n",
    "\n",
    "dotenv_path = Path(\"__file__\").resolve().parents[1].parents[0] / '.local.env'\n",
    "load_dotenv(dotenv_path)\n",
    "\n",
    "OpenAI.api_key = os.getenv(\"OPENAI_API_KEY\")\n",
    "data_path = Path(\"__file__\").resolve().parents[1].parents[0] / \"local_data\""
   ]
  },
  {
   "cell_type": "code",
   "execution_count": 17,
   "metadata": {},
   "outputs": [],
   "source": [
    "client = OpenAI()\n",
    "\n",
    "audio_file_path = Path(data_path) / \"speech1.mp3\"\n",
    "audio_file= open(audio_file_path, \"rb\")\n",
    "transcript = client.audio.transcriptions.create(\n",
    "  file=audio_file,\n",
    "  model=\"whisper-1\",\n",
    "  response_format=\"verbose_json\",\n",
    "  timestamp_granularities=[\"word\"]\n",
    ")"
   ]
  },
  {
   "cell_type": "code",
   "execution_count": 21,
   "metadata": {},
   "outputs": [
    {
     "data": {
      "text/plain": [
       "[{'word': 'I', 'start': 0.7400000095367432, 'end': 1.2799999713897705},\n",
       " {'word': 'will', 'start': 1.2799999713897705, 'end': 1.340000033378601},\n",
       " {'word': 'prevent', 'start': 1.340000033378601, 'end': 1.8200000524520874},\n",
       " {'word': 'and', 'start': 2.0, 'end': 2.140000104904175},\n",
       " {'word': 'very', 'start': 2.140000104904175, 'end': 2.380000114440918},\n",
       " {'word': 'easily', 'start': 2.380000114440918, 'end': 2.859999895095825},\n",
       " {'word': 'World', 'start': 3.740000009536743, 'end': 3.8399999141693115},\n",
       " {'word': 'War', 'start': 3.8399999141693115, 'end': 3.9600000381469727},\n",
       " {'word': 'III', 'start': 3.9600000381469727, 'end': 4.21999979019165},\n",
       " {'word': 'very', 'start': 4.320000171661377, 'end': 4.559999942779541},\n",
       " {'word': 'easily', 'start': 4.559999942779541, 'end': 4.940000057220459},\n",
       " {'word': 'Before', 'start': 6.420000076293945, 'end': 6.639999866485596},\n",
       " {'word': 'I', 'start': 6.639999866485596, 'end': 6.840000152587891},\n",
       " {'word': 'even', 'start': 6.840000152587891, 'end': 7.179999828338623},\n",
       " {'word': 'arrive', 'start': 7.179999828338623, 'end': 7.440000057220459},\n",
       " {'word': 'at', 'start': 7.440000057220459, 'end': 7.599999904632568},\n",
       " {'word': 'the', 'start': 7.599999904632568, 'end': 7.960000038146973},\n",
       " {'word': 'Oval', 'start': 7.960000038146973, 'end': 8.140000343322754},\n",
       " {'word': 'Office', 'start': 8.140000343322754, 'end': 8.34000015258789},\n",
       " {'word': 'I', 'start': 8.4399995803833, 'end': 8.619999885559082},\n",
       " {'word': 'will', 'start': 8.619999885559082, 'end': 8.800000190734863},\n",
       " {'word': 'have', 'start': 8.800000190734863, 'end': 9.140000343322754},\n",
       " {'word': 'the', 'start': 9.140000343322754, 'end': 9.5},\n",
       " {'word': 'disastrous', 'start': 9.5, 'end': 10.039999961853027},\n",
       " {'word': 'war', 'start': 10.039999961853027, 'end': 10.359999656677246},\n",
       " {'word': 'between', 'start': 10.359999656677246, 'end': 10.800000190734863},\n",
       " {'word': 'Russia', 'start': 10.800000190734863, 'end': 11.15999984741211},\n",
       " {'word': 'and', 'start': 11.15999984741211, 'end': 12.279999732971191},\n",
       " {'word': 'Ukraine', 'start': 12.279999732971191, 'end': 12.279999732971191},\n",
       " {'word': 'settled', 'start': 12.279999732971191, 'end': 12.779999732971191},\n",
       " {'word': 'It', 'start': 13.319999694824219, 'end': 13.4399995803833},\n",
       " {'word': 'will', 'start': 13.4399995803833, 'end': 13.619999885559082},\n",
       " {'word': 'be', 'start': 13.619999885559082, 'end': 14.119999885559082},\n",
       " {'word': 'settled', 'start': 14.119999885559082, 'end': 14.119999885559082},\n",
       " {'word': 'quickly', 'start': 14.119999885559082, 'end': 14.640000343322754},\n",
       " {'word': 'Quickly', 'start': 16.200000762939453, 'end': 16.200000762939453},\n",
       " {'word': 'I', 'start': 16.540000915527344, 'end': 18.520000457763672},\n",
       " {'word': 'will', 'start': 18.520000457763672, 'end': 18.700000762939453},\n",
       " {'word': 'get', 'start': 18.700000762939453, 'end': 18.860000610351562},\n",
       " {'word': 'the', 'start': 18.860000610351562, 'end': 19.100000381469727},\n",
       " {'word': 'problem', 'start': 19.100000381469727, 'end': 19.520000457763672},\n",
       " {'word': 'solved', 'start': 19.520000457763672, 'end': 20.059999465942383},\n",
       " {'word': 'and', 'start': 20.139999389648438, 'end': 20.940000534057617},\n",
       " {'word': 'I', 'start': 20.940000534057617, 'end': 21.479999542236328},\n",
       " {'word': 'will', 'start': 21.479999542236328, 'end': 21.639999389648438},\n",
       " {'word': 'get', 'start': 21.639999389648438, 'end': 21.799999237060547},\n",
       " {'word': 'it', 'start': 21.799999237060547, 'end': 22.6200008392334},\n",
       " {'word': 'solved', 'start': 22.6200008392334, 'end': 22.6200008392334},\n",
       " {'word': 'in', 'start': 22.6200008392334, 'end': 23.020000457763672},\n",
       " {'word': 'rapid', 'start': 23.020000457763672, 'end': 23.15999984741211},\n",
       " {'word': 'order', 'start': 23.15999984741211, 'end': 23.5},\n",
       " {'word': 'And', 'start': 23.600000381469727, 'end': 24.700000762939453},\n",
       " {'word': 'it', 'start': 24.700000762939453, 'end': 24.739999771118164},\n",
       " {'word': 'will', 'start': 24.739999771118164, 'end': 24.899999618530273},\n",
       " {'word': 'take', 'start': 24.899999618530273, 'end': 25.079999923706055},\n",
       " {'word': 'me', 'start': 25.079999923706055, 'end': 25.360000610351562},\n",
       " {'word': 'no', 'start': 25.360000610351562, 'end': 25.579999923706055},\n",
       " {'word': 'longer', 'start': 25.579999923706055, 'end': 25.81999969482422},\n",
       " {'word': 'than', 'start': 25.81999969482422, 'end': 26.1200008392334},\n",
       " {'word': 'one', 'start': 26.1200008392334, 'end': 26.3799991607666},\n",
       " {'word': 'day', 'start': 26.3799991607666, 'end': 26.68000030517578},\n",
       " {'word': 'I', 'start': 26.68000030517578, 'end': 26.899999618530273},\n",
       " {'word': 'know', 'start': 26.899999618530273, 'end': 27.040000915527344},\n",
       " {'word': 'exactly', 'start': 27.040000915527344, 'end': 27.479999542236328},\n",
       " {'word': 'what', 'start': 27.479999542236328, 'end': 27.65999984741211},\n",
       " {'word': 'to', 'start': 27.65999984741211, 'end': 27.8799991607666},\n",
       " {'word': 'say', 'start': 27.8799991607666, 'end': 28.0},\n",
       " {'word': 'to', 'start': 28.0, 'end': 28.100000381469727},\n",
       " {'word': 'each', 'start': 28.100000381469727, 'end': 28.299999237060547},\n",
       " {'word': 'of', 'start': 28.299999237060547, 'end': 28.420000076293945},\n",
       " {'word': 'them', 'start': 28.420000076293945, 'end': 28.5},\n",
       " {'word': 'I', 'start': 28.5, 'end': 28.600000381469727},\n",
       " {'word': 'got', 'start': 28.600000381469727, 'end': 28.760000228881836},\n",
       " {'word': 'along', 'start': 28.760000228881836, 'end': 29.040000915527344},\n",
       " {'word': 'very', 'start': 29.040000915527344, 'end': 29.479999542236328},\n",
       " {'word': 'well', 'start': 29.479999542236328, 'end': 29.739999771118164},\n",
       " {'word': 'with', 'start': 29.739999771118164, 'end': 29.940000534057617},\n",
       " {'word': 'them', 'start': 29.940000534057617, 'end': 30.040000915527344}]"
      ]
     },
     "execution_count": 21,
     "metadata": {},
     "output_type": "execute_result"
    }
   ],
   "source": [
    "transcript.words"
   ]
  },
  {
   "cell_type": "code",
   "execution_count": null,
   "metadata": {},
   "outputs": [],
   "source": []
  }
 ],
 "metadata": {
  "kernelspec": {
   "display_name": "rakugo",
   "language": "python",
   "name": "python3"
  },
  "language_info": {
   "codemirror_mode": {
    "name": "ipython",
    "version": 3
   },
   "file_extension": ".py",
   "mimetype": "text/x-python",
   "name": "python",
   "nbconvert_exporter": "python",
   "pygments_lexer": "ipython3",
   "version": "3.10.6"
  }
 },
 "nbformat": 4,
 "nbformat_minor": 2
}
