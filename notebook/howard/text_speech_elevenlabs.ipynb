{
 "cells": [
  {
   "cell_type": "markdown",
   "metadata": {},
   "source": [
    "# Text to speech model using elevenlabs api\n",
    "Objectives:\n",
    "1. Output speech from text using elevenlabs api　✅\n",
    "2. Combine the audio files ✅\n",
    "3. Train particular voice　✅"
   ]
  },
  {
   "cell_type": "code",
   "execution_count": 1,
   "metadata": {},
   "outputs": [],
   "source": [
    "from pathlib import Path\n",
    "import os\n",
    "from dotenv import load_dotenv\n",
    "\n",
    "dotenv_path = Path(\"__file__\").resolve().parents[1].parents[0] / '.local.env'\n",
    "load_dotenv(dotenv_path)\n",
    "ELEVENLABS_API_KEY = os.getenv(\"ELEVENLABS_API_KEY\")\n",
    "data_path = Path(\"__file__\").resolve().parents[1].parents[0] / \"local_data\""
   ]
  },
  {
   "cell_type": "code",
   "execution_count": 2,
   "metadata": {},
   "outputs": [],
   "source": [
    "audio_file_path = Path(data_path) / \"rakugo_v1_short.mp3\"\n",
    "\n",
    "audio_file_paths = [str(audio_file_path)]"
   ]
  },
  {
   "cell_type": "code",
   "execution_count": 3,
   "metadata": {},
   "outputs": [],
   "source": [
    "from elevenlabs import clone, generate, play\n",
    "\n",
    "voice = clone(\n",
    "    api_key=ELEVENLABS_API_KEY,\n",
    "    name=\"rakugo_v1\",\n",
    "    files=audio_file_paths,\n",
    ")"
   ]
  },
  {
   "cell_type": "code",
   "execution_count": 4,
   "metadata": {},
   "outputs": [],
   "source": [
    "audio = generate(\n",
    "    api_key=ELEVENLABS_API_KEY,\n",
    "    text=\"おけです！あとで連絡するね！\",\n",
    "    voice=voice,\n",
    "    model=\"eleven_multilingual_v2\",\n",
    ")"
   ]
  },
  {
   "cell_type": "code",
   "execution_count": 5,
   "metadata": {},
   "outputs": [],
   "source": [
    "test_segments = [\n",
    "    {'text': '練習したような小刻みの白書がございます 旬風て一ノ助と申しましてまぁ', 'start': 16.0, 'end': 23.0},\n",
    "    {'text': '嘘つきは泥棒の始まりなんと まあねほんと猫立ちの悪い嘘つくよりはちょいと間抜けな泥棒の方が', 'start': 23.0, 'end': 30.8799991607666},\n",
    "    {'text': 'かわいいがあるようでございますおしまいしまいこっち来いしまいはい親分なんかご用ですかよですかじゃないよね', 'start': 30.8799991607666, 'end': 38.08000183105469}\n",
    "]\n",
    "\n",
    "sentences = [\n",
    "    'まるで訓練されているかのような詳細な報告があります。僕の名前は一ノ助と申します。',\n",
    "    '嘘をつく人は、最終的には盗人になるものだ。だから、上手く嘘をつけない人よりも、ちょっとばかばかしい泥棒の方がそれなりに魅力があるのかもしれない。',\n",
    "    'これで終わりです。こっちにこい、終わりだよ。はい、親分は何か用があるの？ただの用だけではなくて。'\n",
    "]"
   ]
  },
  {
   "cell_type": "code",
   "execution_count": 6,
   "metadata": {},
   "outputs": [],
   "source": [
    "audios = []\n",
    "for sentence in sentences:\n",
    "    audio = generate(\n",
    "        api_key=ELEVENLABS_API_KEY,\n",
    "        text=sentence,\n",
    "        voice=voice,\n",
    "        model=\"eleven_multilingual_v2\",\n",
    "        output_format=\"mp3_44100_128\"\n",
    "    )\n",
    "    audios.append(audio)"
   ]
  },
  {
   "cell_type": "code",
   "execution_count": 7,
   "metadata": {},
   "outputs": [],
   "source": [
    "play(audios[0])"
   ]
  },
  {
   "cell_type": "code",
   "execution_count": 8,
   "metadata": {},
   "outputs": [],
   "source": [
    "play(audios[1])"
   ]
  },
  {
   "cell_type": "code",
   "execution_count": 9,
   "metadata": {},
   "outputs": [],
   "source": [
    "play(audios[2])"
   ]
  },
  {
   "cell_type": "code",
   "execution_count": 10,
   "metadata": {},
   "outputs": [],
   "source": [
    "temp_res_file_path = Path(data_path) / \"temp_results\"\n",
    "os.makedirs(temp_res_file_path, exist_ok=True)"
   ]
  },
  {
   "cell_type": "code",
   "execution_count": 11,
   "metadata": {},
   "outputs": [
    {
     "name": "stdout",
     "output_type": "stream",
     "text": [
      "audio file saved to /Users/howardtangkulung/code/personal_projects/rakugo/local_data/temp_results/rakugo_v1_0.mp3\n",
      "audio file saved to /Users/howardtangkulung/code/personal_projects/rakugo/local_data/temp_results/rakugo_v1_1.mp3\n",
      "audio file saved to /Users/howardtangkulung/code/personal_projects/rakugo/local_data/temp_results/rakugo_v1_2.mp3\n"
     ]
    }
   ],
   "source": [
    "# save generated audio to mp3\n",
    "for i, audio in enumerate(audios):\n",
    "    audio_file_path = temp_res_file_path / f\"rakugo_v1_{i}.mp3\"\n",
    "    with open(audio_file_path, \"wb\") as f:\n",
    "        f.write(audio)\n",
    "    print(f\"audio file saved to {audio_file_path}\")"
   ]
  },
  {
   "cell_type": "code",
   "execution_count": 12,
   "metadata": {},
   "outputs": [
    {
     "name": "stdout",
     "output_type": "stream",
     "text": [
      "speeded audio with speed 1\n",
      "audio file saved\n",
      "speeded audio with speed 1.4\n",
      "audio file saved\n",
      "speeded audio with speed 1\n",
      "audio file saved\n"
     ]
    }
   ],
   "source": [
    "# speed up audio according to segments start and end\n",
    "\n",
    "from pydub import AudioSegment\n",
    "from pydub.effects import speedup\n",
    "\n",
    "for i, segment in enumerate(test_segments):\n",
    "    audio_file_path = temp_res_file_path / f\"rakugo_v1_{i}.mp3\"\n",
    "    audio = AudioSegment.from_file(audio_file_path, format=\"mp3\")\n",
    "    audio_dur = len(audio) / 1000\n",
    "    speed = round(audio_dur / (segment['end'] - segment['start']), 1)\n",
    "    if 0.8 <= speed <= 1.1:\n",
    "        speed = 1\n",
    "        speeded_audio = audio\n",
    "    else:\n",
    "        speeded_audio = speedup(audio, speed)\n",
    "    print(f\"speeded audio with speed {speed}\")\n",
    "    speeded_audio.export(temp_res_file_path / f\"rakugo_v1_{i}_speeded.mp3\", format=\"mp3\")\n",
    "    print(f\"audio file saved\")"
   ]
  },
  {
   "cell_type": "code",
   "execution_count": 13,
   "metadata": {},
   "outputs": [
    {
     "data": {
      "text/plain": [
       "<_io.BufferedRandom name='/Users/howardtangkulung/code/personal_projects/rakugo/local_data/temp_results/rakugo_v1_merged.mp3'>"
      ]
     },
     "execution_count": 13,
     "metadata": {},
     "output_type": "execute_result"
    }
   ],
   "source": [
    "# merge speeded audio according to segments start and end\n",
    "# use the first segment start time as the start time of the merged audio\n",
    "# fill first silence with original audio\n",
    "for i, segment in enumerate(test_segments):\n",
    "    audio_file_path = temp_res_file_path / f\"rakugo_v1_{i}_speeded.mp3\"\n",
    "    original_audio_file_path = data_path / \"rakugo_v1_short.mp3\"\n",
    "    original_audio = AudioSegment.from_file(original_audio_file_path, format=\"mp3\")\n",
    "    audio = AudioSegment.from_file(audio_file_path, format=\"mp3\")\n",
    "    current_time = segment['start'] * 1000\n",
    "    if i == 0:\n",
    "        fill_dur = current_time\n",
    "        fill = original_audio[:fill_dur]\n",
    "        merged_audio = fill + audio\n",
    "    else:\n",
    "        silence_dur = segment['start'] * 1000 - current_time\n",
    "        silence = AudioSegment.silent(duration=silence_dur)\n",
    "        merged_audio = merged_audio + silence + audio\n",
    "    current_time = len(merged_audio)\n",
    "\n",
    "merged_audio.export(temp_res_file_path / f\"rakugo_v1_merged.mp3\", format=\"mp3\")"
   ]
  },
  {
   "cell_type": "code",
   "execution_count": null,
   "metadata": {},
   "outputs": [],
   "source": []
  }
 ],
 "metadata": {
  "kernelspec": {
   "display_name": "rakugo",
   "language": "python",
   "name": "python3"
  },
  "language_info": {
   "codemirror_mode": {
    "name": "ipython",
    "version": 3
   },
   "file_extension": ".py",
   "mimetype": "text/x-python",
   "name": "python",
   "nbconvert_exporter": "python",
   "pygments_lexer": "ipython3",
   "version": "3.10.6"
  }
 },
 "nbformat": 4,
 "nbformat_minor": 2
}
