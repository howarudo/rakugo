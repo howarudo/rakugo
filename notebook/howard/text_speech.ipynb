{
 "cells": [
  {
   "cell_type": "code",
   "execution_count": 1,
   "metadata": {},
   "outputs": [],
   "source": [
    "from pathlib import Path\n",
    "from openai import OpenAI\n",
    "import os\n",
    "from dotenv import load_dotenv\n",
    "\n",
    "dotenv_path = Path(\"__file__\").resolve().parents[1].parents[0] / '.local.env'\n",
    "load_dotenv(dotenv_path)\n",
    "\n",
    "OpenAI.api_key = os.getenv(\"OPENAI_API_KEY\")\n",
    "data_path = Path(\"__file__\").resolve().parents[1].parents[0] / \"local_data\""
   ]
  },
  {
   "cell_type": "code",
   "execution_count": 2,
   "metadata": {},
   "outputs": [],
   "source": [
    "client = OpenAI()\n",
    "\n",
    "speech_file_path = Path(data_path) / \"speech_test.mp3\"\n",
    "input_text = \"半分でしょう。これが嘘でも二つ、三つ、五つと集まってきてみてください。みんな言っている。「二つ、持っていないで」と。またそんな大したお金ではなかったら、「もしかして返してくれないと困るな」と、断りたいし、断ることもできません。\""
   ]
  },
  {
   "cell_type": "code",
   "execution_count": 3,
   "metadata": {},
   "outputs": [
    {
     "name": "stderr",
     "output_type": "stream",
     "text": [
      "/var/folders/sy/4mvdh7yx2rn37237j7qbqrdr0000gn/T/ipykernel_6100/3630832983.py:7: DeprecationWarning: Due to a bug, this method doesn't actually stream the response content, `.with_streaming_response.method()` should be used instead\n",
      "  response.stream_to_file(speech_file_path)\n"
     ]
    }
   ],
   "source": [
    "response = client.audio.speech.create(\n",
    "  model=\"tts-1\",\n",
    "  voice=\"onyx\",\n",
    "  input=f\"{input_text}\"\n",
    ")\n",
    "\n",
    "response.stream_to_file(speech_file_path)"
   ]
  },
  {
   "cell_type": "code",
   "execution_count": null,
   "metadata": {},
   "outputs": [],
   "source": []
  }
 ],
 "metadata": {
  "kernelspec": {
   "display_name": "rakugo",
   "language": "python",
   "name": "python3"
  },
  "language_info": {
   "codemirror_mode": {
    "name": "ipython",
    "version": 3
   },
   "file_extension": ".py",
   "mimetype": "text/x-python",
   "name": "python",
   "nbconvert_exporter": "python",
   "pygments_lexer": "ipython3",
   "version": "3.10.6"
  }
 },
 "nbformat": 4,
 "nbformat_minor": 2
}
